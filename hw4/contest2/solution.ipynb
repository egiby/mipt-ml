{
 "cells": [
  {
   "cell_type": "code",
   "execution_count": 3,
   "metadata": {
    "collapsed": true
   },
   "outputs": [],
   "source": [
    "import pandas as pd\n",
    "import numpy as np\n",
    "from matplotlib import pyplot as plt\n",
    "%matplotlib inline\n",
    "\n",
    "def read_data(filename, labels=(), types=(), sep=None):\n",
    "    data = dict()\n",
    "    data['last'] = []\n",
    "    \n",
    "    with open(filename) as fin:\n",
    "        file = fin.readlines()\n",
    "        if not labels:\n",
    "            if sep is None:\n",
    "                labels = file[0].strip().split()\n",
    "            else:\n",
    "                labels = file[0].strip().split(sep)\n",
    "\n",
    "        if not types:\n",
    "            types = [str] * len(labels)\n",
    "\n",
    "        for label in labels:\n",
    "            data[label] = []\n",
    "    \n",
    "    \n",
    "        for line in file[1:]:\n",
    "            keys = []\n",
    "            if sep is None:\n",
    "                keys = line.strip().split()\n",
    "            else:\n",
    "                keys = line.strip().split(sep)\n",
    "            \n",
    "            for key, label, ttype in zip(keys, labels, types):\n",
    "                data[label].append(ttype(key))\n",
    "            data['last'].append(keys[len(labels):])\n",
    "            \n",
    "    data['size'] = len(data[labels[0]])\n",
    "    return data"
   ]
  },
  {
   "cell_type": "code",
   "execution_count": 6,
   "metadata": {
    "collapsed": true
   },
   "outputs": [],
   "source": [
    "def lsp(s1, s2):\n",
    "    ans = 0\n",
    "    while ans < len(s1) and ans < len(s2) and s1[ans] == s2[ans]:\n",
    "        ans += 1\n",
    "    \n",
    "    return ans\n",
    "\n",
    "def init(data):\n",
    "    data['form'] = []\n",
    "    data['part'] = []\n",
    "    data['lsp'] = []\n",
    "    data['x_ending_len'] = []\n",
    "    data['y_ending'] = []\n",
    "    \n",
    "    for x, y in zip(data['X'], data['y']):\n",
    "        form, part = y.split('+')\n",
    "        data['form'].append(form)\n",
    "        data['part'].append(part)\n",
    "        data['lsp'].append(lsp(data['form'][-1], x))\n",
    "        data['x_ending_len'].append(len(x) - data['lsp'][-1])\n",
    "        data['y_ending'].append(data['form'][-1][data['lsp'][-1]:])"
   ]
  },
  {
   "cell_type": "code",
   "execution_count": 7,
   "metadata": {},
   "outputs": [],
   "source": [
    "prefix = '../../data/linear_contest2/'\n",
    "raw_data = read_data(prefix + 'task2_lemmas_train', sep=',')\n",
    "\n",
    "init(raw_data)"
   ]
  },
  {
   "cell_type": "code",
   "execution_count": 8,
   "metadata": {
    "collapsed": true,
    "scrolled": false
   },
   "outputs": [],
   "source": [
    "def get_by_indices(data, indices):\n",
    "    new_data = dict()\n",
    "    new_data['size'] = len(indices)\n",
    "    \n",
    "    for key, feature in data.items():\n",
    "        if key == 'size':\n",
    "            continue\n",
    "        new_data[key] = np.array(data[key])[list(indices)]\n",
    "    \n",
    "    return new_data\n",
    "\n",
    "\n",
    "def sample(data, frac, random_state):  # data must have key 'size'\n",
    "    np.random.seed(random_state)\n",
    "    indices = set()\n",
    "    N = int(data['size'] * frac)\n",
    "    \n",
    "    while len(indices) < N:\n",
    "        indices.add(np.random.randint(0, data['size']))\n",
    "    \n",
    "    return get_by_indices(data, indices)"
   ]
  },
  {
   "cell_type": "code",
   "execution_count": 51,
   "metadata": {},
   "outputs": [
    {
     "data": {
      "text/plain": [
       "5932"
      ]
     },
     "execution_count": 51,
     "metadata": {},
     "output_type": "execute_result"
    }
   ],
   "source": [
    "frac = .05\n",
    "\n",
    "train_sample = sample(raw_data, frac=frac, random_state=501)\n",
    "\n",
    "train_sample['size']"
   ]
  },
  {
   "cell_type": "code",
   "execution_count": 52,
   "metadata": {},
   "outputs": [
    {
     "data": {
      "text/plain": [
       "11"
      ]
     },
     "execution_count": 52,
     "metadata": {},
     "output_type": "execute_result"
    }
   ],
   "source": [
    "len(set(train_sample['x_ending_len']))"
   ]
  },
  {
   "cell_type": "markdown",
   "metadata": {},
   "source": [
    "# Определение части речи"
   ]
  },
  {
   "cell_type": "code",
   "execution_count": 53,
   "metadata": {
    "collapsed": true
   },
   "outputs": [],
   "source": [
    "from sklearn.feature_extraction.text import HashingVectorizer\n",
    "from scipy.sparse import coo_matrix\n",
    "\n",
    "def gen_features(sample, ngram_range=(1, 4), n_features=2 ** 20):\n",
    "    hashes = HashingVectorizer(ngram_range=ngram_range, \n",
    "                               analyzer='char_wb', \n",
    "                               n_features=n_features,\n",
    "                               norm='l2').fit_transform(sample['X'])\n",
    "    new_sample = dict(sample)\n",
    "    new_sample['features'] = hashes\n",
    "    return new_sample"
   ]
  },
  {
   "cell_type": "code",
   "execution_count": 54,
   "metadata": {
    "scrolled": false
   },
   "outputs": [
    {
     "data": {
      "text/plain": [
       "{'Id': array(['1', '32771', '10', ..., '65503', '32743', '32757'], \n",
       "       dtype='<U6'),\n",
       " 'X': array(['vergognerete', 'rivangheremmo', 'computando', ..., 'spazzolerà',\n",
       "        'pranzato', 'vacasser'], \n",
       "       dtype='<U26'),\n",
       " 'features': <5932x1048576 sparse matrix of type '<class 'numpy.float64'>'\n",
       " \twith 234628 stored elements in Compressed Sparse Row format>,\n",
       " 'form': array(['vergognare', 'rivangare', 'computare', ..., 'spazzolare',\n",
       "        'pranzare', 'vacare'], \n",
       "       dtype='<U26'),\n",
       " 'last': array([[], [], [], ..., [], [], []], dtype=object),\n",
       " 'lsp': array([7, 6, 7, ..., 7, 6, 4]),\n",
       " 'part': array(['V', 'V', 'V', ..., 'V', 'V', 'V'], \n",
       "       dtype='<U1'),\n",
       " 'size': 5932,\n",
       " 'x_ending_len': array([5, 7, 3, ..., 3, 2, 4]),\n",
       " 'y': array(['vergognare+V', 'rivangare+V', 'computare+V', ..., 'spazzolare+V',\n",
       "        'pranzare+V', 'vacare+V'], \n",
       "       dtype='<U28'),\n",
       " 'y_ending': array(['are', 'are', 're', ..., 'are', 're', 're'], \n",
       "       dtype='<U11')}"
      ]
     },
     "execution_count": 54,
     "metadata": {},
     "output_type": "execute_result"
    }
   ],
   "source": [
    "gen_features(train_sample)"
   ]
  },
  {
   "cell_type": "code",
   "execution_count": 55,
   "metadata": {
    "collapsed": true
   },
   "outputs": [],
   "source": [
    "from sklearn.metrics import accuracy_score\n",
    "from sklearn.model_selection import KFold\n",
    "\n",
    "def cross_validation(model, data, n_splits=5, X_name='fetaures', y_name='y', **kwargs):\n",
    "    score = 0.\n",
    "    for train_indices, test_indices in KFold(n_splits=n_splits).split(data[y_name]):\n",
    "        train = get_by_indices(data, train_indices)\n",
    "        test = get_by_indices(data, test_indices)\n",
    "        train = gen_features(train, **kwargs)\n",
    "        test = gen_features(test, **kwargs)\n",
    "        model.fit(train[X_name], train[y_name])\n",
    "        score += accuracy_score(model.predict(test[X_name]), test[y_name])\n",
    "    \n",
    "    return score / n_splits"
   ]
  },
  {
   "cell_type": "code",
   "execution_count": 67,
   "metadata": {},
   "outputs": [
    {
     "name": "stdout",
     "output_type": "stream",
     "text": [
      "0.90239525722\n",
      "CPU times: user 3.86 s, sys: 83.3 ms, total: 3.94 s\n",
      "Wall time: 4.02 s\n"
     ]
    }
   ],
   "source": [
    "%%time\n",
    "from sklearn.linear_model import PassiveAggressiveClassifier, LogisticRegression\n",
    "# 0.9024\n",
    "# print(cross_validation(LogisticRegression(random_state=501, C=20, dual=True),\n",
    "\n",
    "print(cross_validation(PassiveAggressiveClassifier(random_state=501, C=20., n_iter=15), \n",
    "                       train_sample,\n",
    "                       X_name='features',\n",
    "                       y_name='part',\n",
    "                       ngram_range=(1, 6),\n",
    "                       n_features=2 ** 20))"
   ]
  },
  {
   "cell_type": "code",
   "execution_count": 72,
   "metadata": {},
   "outputs": [
    {
     "name": "stdout",
     "output_type": "stream",
     "text": [
      "0.835640461378\n",
      "CPU times: user 8.69 s, sys: 367 ms, total: 9.05 s\n",
      "Wall time: 9.09 s\n"
     ]
    }
   ],
   "source": [
    "%%time\n",
    "from sklearn.linear_model import PassiveAggressiveClassifier, LogisticRegression\n",
    "\n",
    "# 0.8356\n",
    "# print(cross_validation(LogisticRegression(random_state=501, C=20, dual=True), \n",
    "print(cross_validation(PassiveAggressiveClassifier(random_state=501, C=20., n_iter=26), \n",
    "                       train_sample,\n",
    "                       X_name='features',\n",
    "                       y_name='x_ending_len',\n",
    "                       ngram_range=(1, 6),\n",
    "                       n_features=2 ** 20))"
   ]
  },
  {
   "cell_type": "code",
   "execution_count": 71,
   "metadata": {},
   "outputs": [
    {
     "name": "stdout",
     "output_type": "stream",
     "text": [
      "20 0.834122896869\n",
      "22 0.833279868616\n",
      "24 0.833111660754\n",
      "26 0.835640461378\n",
      "28 0.834628799061\n",
      "30 0.833786054943\n"
     ]
    }
   ],
   "source": [
    "for n in range(20, 31, 2):\n",
    "    print(n, cross_validation(PassiveAggressiveClassifier(random_state=501, C=20., n_iter=n), \n",
    "                              train_sample,\n",
    "                              X_name='features',\n",
    "                              y_name='x_ending_len',\n",
    "                              ngram_range=(1, 6),\n",
    "                              n_features=2 ** 20))"
   ]
  },
  {
   "cell_type": "code",
   "execution_count": 75,
   "metadata": {},
   "outputs": [
    {
     "name": "stdout",
     "output_type": "stream",
     "text": [
      "0.844573804751\n",
      "CPU times: user 18.4 s, sys: 1.36 s, total: 19.8 s\n",
      "Wall time: 19.8 s\n"
     ]
    }
   ],
   "source": [
    "%%time\n",
    "from sklearn.linear_model import PassiveAggressiveClassifier, LogisticRegression\n",
    "\n",
    "# 0.8445\n",
    "# print(cross_validation(LogisticRegression(random_state=501, C=20, dual=True), \n",
    "print(cross_validation(PassiveAggressiveClassifier(random_state=501, C=20., n_iter=15), \n",
    "                       train_sample,\n",
    "                       X_name='features',\n",
    "                       y_name='y_ending',\n",
    "                       ngram_range=(1, 6),\n",
    "                       n_features=2 ** 20))"
   ]
  },
  {
   "cell_type": "code",
   "execution_count": 74,
   "metadata": {},
   "outputs": [
    {
     "name": "stdout",
     "output_type": "stream",
     "text": [
      "10 0.842550764252\n",
      "12 0.844067902559\n",
      "14 0.845079564876\n",
      "16 0.844236962825\n",
      "18 0.843899410562\n",
      "20 0.84288803238\n"
     ]
    }
   ],
   "source": [
    "for n in range(10, 21, 2):\n",
    "    print(n, cross_validation(PassiveAggressiveClassifier(random_state=501, C=20., n_iter=n), \n",
    "                              train_sample,\n",
    "                              X_name='features',\n",
    "                              y_name='y_ending',\n",
    "                              ngram_range=(1, 6),\n",
    "                              n_features=2 ** 20))"
   ]
  },
  {
   "cell_type": "code",
   "execution_count": 62,
   "metadata": {
    "scrolled": true
   },
   "outputs": [
    {
     "name": "stdout",
     "output_type": "stream",
     "text": [
      "Fitting 3 folds for each of 5 candidates, totalling 15 fits\n",
      "(0.89801078894133513, {'C': 20, 'n_iter': 15, 'random_state': 501})\n",
      "(0.89817936614969651, {'C': 20, 'n_iter': 25, 'random_state': 501})\n",
      "(0.89817936614969651, {'C': 20, 'n_iter': 35, 'random_state': 501})\n",
      "(0.89817936614969651, {'C': 20, 'n_iter': 45, 'random_state': 501})\n",
      "(0.90053944706675659, {'C': 20, 'n_iter': 5, 'random_state': 501})\n"
     ]
    },
    {
     "name": "stderr",
     "output_type": "stream",
     "text": [
      "[Parallel(n_jobs=3)]: Done  15 out of  15 | elapsed:    3.6s finished\n"
     ]
    }
   ],
   "source": [
    "from sklearn.model_selection import GridSearchCV\n",
    "from sklearn.linear_model import LogisticRegression, PassiveAggressiveClassifier\n",
    "from sklearn.metrics import make_scorer\n",
    "\n",
    "model = PassiveAggressiveClassifier()\n",
    "clf = GridSearchCV(model, \n",
    "                   {\n",
    "                       'random_state': (501,), \n",
    "                       'C': (20,),\n",
    "                       'n_iter': range(5, 46, 10)\n",
    "                   }, \n",
    "                   n_jobs=3,\n",
    "                   verbose=1\n",
    "                  )\n",
    "\n",
    "data = gen_features(train_sample, ngram_range=(1, 6))\n",
    "clf.fit(data['features'], data['part'])\n",
    "\n",
    "print(*sorted(list(zip(clf.cv_results_['mean_test_score'], clf.cv_results_['params'])), \n",
    "              key=lambda x: x[0]), sep='\\n')"
   ]
  },
  {
   "cell_type": "code",
   "execution_count": 76,
   "metadata": {
    "collapsed": true
   },
   "outputs": [],
   "source": [
    "from sklearn.linear_model import PassiveAggressiveClassifier, LogisticRegression\n",
    "\n",
    "def predict(train, test, model, X_name, y_name):\n",
    "    train = gen_features(train, ngram_range=(1, 6), n_features=2 ** 20)\n",
    "    test = gen_features(test, ngram_range=(1, 6), n_features=2 ** 20)\n",
    "    \n",
    "    model.fit(train[X_name], train[y_name])\n",
    "    return model.predict(test[X_name])\n",
    "\n",
    "\n",
    "def predict_part(train, test):\n",
    "    model = PassiveAggressiveClassifier(random_state=501, C=20., n_iter=15)\n",
    "    return predict(train, test, model, 'features', 'part')\n",
    "\n",
    "\n",
    "def predict_x_ending_len(train, test):\n",
    "    model = PassiveAggressiveClassifier(random_state=501, C=20., n_iter=26)\n",
    "    return predict(train, test, model, 'features', 'x_ending_len')\n",
    "\n",
    "\n",
    "def predict_y_ending(train, test):\n",
    "    model = PassiveAggressiveClassifier(random_state=501, C=20., n_iter=15)\n",
    "    return predict(train, test, model, 'features', 'y_ending')"
   ]
  },
  {
   "cell_type": "markdown",
   "metadata": {},
   "source": [
    "# Для отправки"
   ]
  },
  {
   "cell_type": "code",
   "execution_count": 77,
   "metadata": {
    "collapsed": true
   },
   "outputs": [],
   "source": [
    "prefix = '../../data/linear_contest2/task2_lemmas_'\n",
    "raw_data = read_data(prefix + 'train', sep=',')\n",
    "init(raw_data)\n",
    "\n",
    "raw_test = read_data(prefix + 'test', sep=',')\n",
    "\n",
    "sample_submission = pd.read_csv(prefix + 'sample_submission')"
   ]
  },
  {
   "cell_type": "code",
   "execution_count": 79,
   "metadata": {},
   "outputs": [
    {
     "name": "stdout",
     "output_type": "stream",
     "text": [
      "CPU times: user 2min 3s, sys: 2.14 s, total: 2min 5s\n",
      "Wall time: 2min 6s\n",
      "CPU times: user 40.5 s, sys: 1.83 s, total: 42.3 s\n",
      "Wall time: 43.2 s\n",
      "CPU times: user 16.2 s, sys: 363 ms, total: 16.5 s\n",
      "Wall time: 16.6 s\n"
     ]
    }
   ],
   "source": [
    "%time raw_test['y_ending'] = predict_y_ending(raw_data, raw_test)\n",
    "%time raw_test['x_ending_len'] = predict_x_ending_len(raw_data, raw_test)\n",
    "%time raw_test['part'] = predict_part(raw_data, raw_test)"
   ]
  },
  {
   "cell_type": "code",
   "execution_count": 80,
   "metadata": {
    "collapsed": true
   },
   "outputs": [],
   "source": [
    "raw_test['y'] = []\n",
    "\n",
    "for x, x_ending_len, y_ending, part in zip(raw_test['X'], \n",
    "                                           raw_test['x_ending_len'], \n",
    "                                           raw_test['y_ending'], \n",
    "                                           raw_test['part']):\n",
    "    raw_test['y'].append(x[:len(x) - x_ending_len] + y_ending + '+' + part)\n",
    "\n",
    "sample_submission['Category'] = raw_test['y']"
   ]
  },
  {
   "cell_type": "code",
   "execution_count": 81,
   "metadata": {},
   "outputs": [
    {
     "data": {
      "text/plain": [
       "['gettonare+V',\n",
       " 'incidentale+A',\n",
       " 'involtare+V',\n",
       " 'lievo+N',\n",
       " 'comunistizzare+V',\n",
       " 'vidimare+V',\n",
       " 'imbrodre+V',\n",
       " 'strillare+V',\n",
       " 'cifrare+V',\n",
       " 'compassare+V']"
      ]
     },
     "execution_count": 81,
     "metadata": {},
     "output_type": "execute_result"
    }
   ],
   "source": [
    "raw_test['y'][:10]"
   ]
  },
  {
   "cell_type": "code",
   "execution_count": 82,
   "metadata": {},
   "outputs": [
    {
     "data": {
      "text/plain": [
       "array([1, 1, 3, 1, 3, 6, 2, 0, 3, 4])"
      ]
     },
     "execution_count": 82,
     "metadata": {},
     "output_type": "execute_result"
    }
   ],
   "source": [
    "raw_test['x_ending_len'][:10]"
   ]
  },
  {
   "cell_type": "code",
   "execution_count": 83,
   "metadata": {},
   "outputs": [
    {
     "data": {
      "text/html": [
       "<div>\n",
       "<table border=\"1\" class=\"dataframe\">\n",
       "  <thead>\n",
       "    <tr style=\"text-align: right;\">\n",
       "      <th></th>\n",
       "      <th>Id</th>\n",
       "      <th>Category</th>\n",
       "    </tr>\n",
       "  </thead>\n",
       "  <tbody>\n",
       "    <tr>\n",
       "      <th>0</th>\n",
       "      <td>1</td>\n",
       "      <td>gettonare+V</td>\n",
       "    </tr>\n",
       "    <tr>\n",
       "      <th>1</th>\n",
       "      <td>2</td>\n",
       "      <td>incidentale+A</td>\n",
       "    </tr>\n",
       "    <tr>\n",
       "      <th>2</th>\n",
       "      <td>3</td>\n",
       "      <td>involtare+V</td>\n",
       "    </tr>\n",
       "    <tr>\n",
       "      <th>3</th>\n",
       "      <td>4</td>\n",
       "      <td>lievo+N</td>\n",
       "    </tr>\n",
       "    <tr>\n",
       "      <th>4</th>\n",
       "      <td>5</td>\n",
       "      <td>comunistizzare+V</td>\n",
       "    </tr>\n",
       "    <tr>\n",
       "      <th>5</th>\n",
       "      <td>6</td>\n",
       "      <td>vidimare+V</td>\n",
       "    </tr>\n",
       "    <tr>\n",
       "      <th>6</th>\n",
       "      <td>7</td>\n",
       "      <td>imbrodre+V</td>\n",
       "    </tr>\n",
       "    <tr>\n",
       "      <th>7</th>\n",
       "      <td>8</td>\n",
       "      <td>strillare+V</td>\n",
       "    </tr>\n",
       "    <tr>\n",
       "      <th>8</th>\n",
       "      <td>9</td>\n",
       "      <td>cifrare+V</td>\n",
       "    </tr>\n",
       "    <tr>\n",
       "      <th>9</th>\n",
       "      <td>10</td>\n",
       "      <td>compassare+V</td>\n",
       "    </tr>\n",
       "    <tr>\n",
       "      <th>10</th>\n",
       "      <td>11</td>\n",
       "      <td>cuci+V</td>\n",
       "    </tr>\n",
       "    <tr>\n",
       "      <th>11</th>\n",
       "      <td>12</td>\n",
       "      <td>snobbare+V</td>\n",
       "    </tr>\n",
       "    <tr>\n",
       "      <th>12</th>\n",
       "      <td>13</td>\n",
       "      <td>tessere+V</td>\n",
       "    </tr>\n",
       "    <tr>\n",
       "      <th>13</th>\n",
       "      <td>14</td>\n",
       "      <td>coagulare+V</td>\n",
       "    </tr>\n",
       "    <tr>\n",
       "      <th>14</th>\n",
       "      <td>15</td>\n",
       "      <td>somatizzare+V</td>\n",
       "    </tr>\n",
       "    <tr>\n",
       "      <th>15</th>\n",
       "      <td>16</td>\n",
       "      <td>impoverimento+N</td>\n",
       "    </tr>\n",
       "    <tr>\n",
       "      <th>16</th>\n",
       "      <td>17</td>\n",
       "      <td>smungere+V</td>\n",
       "    </tr>\n",
       "    <tr>\n",
       "      <th>17</th>\n",
       "      <td>18</td>\n",
       "      <td>abbuffare+V</td>\n",
       "    </tr>\n",
       "    <tr>\n",
       "      <th>18</th>\n",
       "      <td>19</td>\n",
       "      <td>meravigliare+V</td>\n",
       "    </tr>\n",
       "    <tr>\n",
       "      <th>19</th>\n",
       "      <td>20</td>\n",
       "      <td>risucchiare+V</td>\n",
       "    </tr>\n",
       "    <tr>\n",
       "      <th>20</th>\n",
       "      <td>21</td>\n",
       "      <td>sesquipedale+A</td>\n",
       "    </tr>\n",
       "    <tr>\n",
       "      <th>21</th>\n",
       "      <td>22</td>\n",
       "      <td>timido+A</td>\n",
       "    </tr>\n",
       "    <tr>\n",
       "      <th>22</th>\n",
       "      <td>23</td>\n",
       "      <td>nauseare+V</td>\n",
       "    </tr>\n",
       "    <tr>\n",
       "      <th>23</th>\n",
       "      <td>24</td>\n",
       "      <td>ingozzare+V</td>\n",
       "    </tr>\n",
       "    <tr>\n",
       "      <th>24</th>\n",
       "      <td>25</td>\n",
       "      <td>stimare+V</td>\n",
       "    </tr>\n",
       "    <tr>\n",
       "      <th>25</th>\n",
       "      <td>26</td>\n",
       "      <td>relazionare+V</td>\n",
       "    </tr>\n",
       "    <tr>\n",
       "      <th>26</th>\n",
       "      <td>27</td>\n",
       "      <td>sorridere+V</td>\n",
       "    </tr>\n",
       "    <tr>\n",
       "      <th>27</th>\n",
       "      <td>28</td>\n",
       "      <td>illuminare+V</td>\n",
       "    </tr>\n",
       "    <tr>\n",
       "      <th>28</th>\n",
       "      <td>29</td>\n",
       "      <td>concitare+V</td>\n",
       "    </tr>\n",
       "    <tr>\n",
       "      <th>29</th>\n",
       "      <td>30</td>\n",
       "      <td>dissecare+V</td>\n",
       "    </tr>\n",
       "    <tr>\n",
       "      <th>...</th>\n",
       "      <td>...</td>\n",
       "      <td>...</td>\n",
       "    </tr>\n",
       "    <tr>\n",
       "      <th>29631</th>\n",
       "      <td>29632</td>\n",
       "      <td>diagnosticare+V</td>\n",
       "    </tr>\n",
       "    <tr>\n",
       "      <th>29632</th>\n",
       "      <td>29633</td>\n",
       "      <td>condiscendere+V</td>\n",
       "    </tr>\n",
       "    <tr>\n",
       "      <th>29633</th>\n",
       "      <td>29634</td>\n",
       "      <td>banchetto+N</td>\n",
       "    </tr>\n",
       "    <tr>\n",
       "      <th>29634</th>\n",
       "      <td>29635</td>\n",
       "      <td>ricouocere+V</td>\n",
       "    </tr>\n",
       "    <tr>\n",
       "      <th>29635</th>\n",
       "      <td>29636</td>\n",
       "      <td>ammainare+V</td>\n",
       "    </tr>\n",
       "    <tr>\n",
       "      <th>29636</th>\n",
       "      <td>29637</td>\n",
       "      <td>azzoppare+V</td>\n",
       "    </tr>\n",
       "    <tr>\n",
       "      <th>29637</th>\n",
       "      <td>29638</td>\n",
       "      <td>scoppiettare+V</td>\n",
       "    </tr>\n",
       "    <tr>\n",
       "      <th>29638</th>\n",
       "      <td>29639</td>\n",
       "      <td>disattrezzare+V</td>\n",
       "    </tr>\n",
       "    <tr>\n",
       "      <th>29639</th>\n",
       "      <td>29640</td>\n",
       "      <td>afferrare+V</td>\n",
       "    </tr>\n",
       "    <tr>\n",
       "      <th>29640</th>\n",
       "      <td>29641</td>\n",
       "      <td>sfibrare+V</td>\n",
       "    </tr>\n",
       "    <tr>\n",
       "      <th>29641</th>\n",
       "      <td>29642</td>\n",
       "      <td>sgranchire+V</td>\n",
       "    </tr>\n",
       "    <tr>\n",
       "      <th>29642</th>\n",
       "      <td>29643</td>\n",
       "      <td>iniezione+N</td>\n",
       "    </tr>\n",
       "    <tr>\n",
       "      <th>29643</th>\n",
       "      <td>29644</td>\n",
       "      <td>esecrare+V</td>\n",
       "    </tr>\n",
       "    <tr>\n",
       "      <th>29644</th>\n",
       "      <td>29645</td>\n",
       "      <td>inghirlandre+V</td>\n",
       "    </tr>\n",
       "    <tr>\n",
       "      <th>29645</th>\n",
       "      <td>29646</td>\n",
       "      <td>damaschinare+V</td>\n",
       "    </tr>\n",
       "    <tr>\n",
       "      <th>29646</th>\n",
       "      <td>29647</td>\n",
       "      <td>relazionare+V</td>\n",
       "    </tr>\n",
       "    <tr>\n",
       "      <th>29647</th>\n",
       "      <td>29648</td>\n",
       "      <td>cercare+V</td>\n",
       "    </tr>\n",
       "    <tr>\n",
       "      <th>29648</th>\n",
       "      <td>29649</td>\n",
       "      <td>ritorcre+V</td>\n",
       "    </tr>\n",
       "    <tr>\n",
       "      <th>29649</th>\n",
       "      <td>29650</td>\n",
       "      <td>comunicazione+N</td>\n",
       "    </tr>\n",
       "    <tr>\n",
       "      <th>29650</th>\n",
       "      <td>29651</td>\n",
       "      <td>macchinare+V</td>\n",
       "    </tr>\n",
       "    <tr>\n",
       "      <th>29651</th>\n",
       "      <td>29652</td>\n",
       "      <td>murare+V</td>\n",
       "    </tr>\n",
       "    <tr>\n",
       "      <th>29652</th>\n",
       "      <td>29653</td>\n",
       "      <td>rapprendere+V</td>\n",
       "    </tr>\n",
       "    <tr>\n",
       "      <th>29653</th>\n",
       "      <td>29654</td>\n",
       "      <td>inorgoglire+V</td>\n",
       "    </tr>\n",
       "    <tr>\n",
       "      <th>29654</th>\n",
       "      <td>29655</td>\n",
       "      <td>preconoscere+V</td>\n",
       "    </tr>\n",
       "    <tr>\n",
       "      <th>29655</th>\n",
       "      <td>29656</td>\n",
       "      <td>comprovare+V</td>\n",
       "    </tr>\n",
       "    <tr>\n",
       "      <th>29656</th>\n",
       "      <td>29657</td>\n",
       "      <td>disoccupazione+N</td>\n",
       "    </tr>\n",
       "    <tr>\n",
       "      <th>29657</th>\n",
       "      <td>29658</td>\n",
       "      <td>preoccupare+V</td>\n",
       "    </tr>\n",
       "    <tr>\n",
       "      <th>29658</th>\n",
       "      <td>29659</td>\n",
       "      <td>spazzolare+V</td>\n",
       "    </tr>\n",
       "    <tr>\n",
       "      <th>29659</th>\n",
       "      <td>29660</td>\n",
       "      <td>stuzzicare+V</td>\n",
       "    </tr>\n",
       "    <tr>\n",
       "      <th>29660</th>\n",
       "      <td>29661</td>\n",
       "      <td>impiagare+V</td>\n",
       "    </tr>\n",
       "  </tbody>\n",
       "</table>\n",
       "<p>29661 rows × 2 columns</p>\n",
       "</div>"
      ],
      "text/plain": [
       "          Id          Category\n",
       "0          1       gettonare+V\n",
       "1          2     incidentale+A\n",
       "2          3       involtare+V\n",
       "3          4           lievo+N\n",
       "4          5  comunistizzare+V\n",
       "5          6        vidimare+V\n",
       "6          7        imbrodre+V\n",
       "7          8       strillare+V\n",
       "8          9         cifrare+V\n",
       "9         10      compassare+V\n",
       "10        11            cuci+V\n",
       "11        12        snobbare+V\n",
       "12        13         tessere+V\n",
       "13        14       coagulare+V\n",
       "14        15     somatizzare+V\n",
       "15        16   impoverimento+N\n",
       "16        17        smungere+V\n",
       "17        18       abbuffare+V\n",
       "18        19    meravigliare+V\n",
       "19        20     risucchiare+V\n",
       "20        21    sesquipedale+A\n",
       "21        22          timido+A\n",
       "22        23        nauseare+V\n",
       "23        24       ingozzare+V\n",
       "24        25         stimare+V\n",
       "25        26     relazionare+V\n",
       "26        27       sorridere+V\n",
       "27        28      illuminare+V\n",
       "28        29       concitare+V\n",
       "29        30       dissecare+V\n",
       "...      ...               ...\n",
       "29631  29632   diagnosticare+V\n",
       "29632  29633   condiscendere+V\n",
       "29633  29634       banchetto+N\n",
       "29634  29635      ricouocere+V\n",
       "29635  29636       ammainare+V\n",
       "29636  29637       azzoppare+V\n",
       "29637  29638    scoppiettare+V\n",
       "29638  29639   disattrezzare+V\n",
       "29639  29640       afferrare+V\n",
       "29640  29641        sfibrare+V\n",
       "29641  29642      sgranchire+V\n",
       "29642  29643       iniezione+N\n",
       "29643  29644        esecrare+V\n",
       "29644  29645    inghirlandre+V\n",
       "29645  29646    damaschinare+V\n",
       "29646  29647     relazionare+V\n",
       "29647  29648         cercare+V\n",
       "29648  29649        ritorcre+V\n",
       "29649  29650   comunicazione+N\n",
       "29650  29651      macchinare+V\n",
       "29651  29652          murare+V\n",
       "29652  29653     rapprendere+V\n",
       "29653  29654     inorgoglire+V\n",
       "29654  29655    preconoscere+V\n",
       "29655  29656      comprovare+V\n",
       "29656  29657  disoccupazione+N\n",
       "29657  29658     preoccupare+V\n",
       "29658  29659      spazzolare+V\n",
       "29659  29660      stuzzicare+V\n",
       "29660  29661       impiagare+V\n",
       "\n",
       "[29661 rows x 2 columns]"
      ]
     },
     "execution_count": 83,
     "metadata": {},
     "output_type": "execute_result"
    }
   ],
   "source": [
    "sample_submission"
   ]
  },
  {
   "cell_type": "code",
   "execution_count": 85,
   "metadata": {
    "collapsed": true
   },
   "outputs": [],
   "source": [
    "sample_submission.to_csv(\"submission.tsv\", sep=',', index=False)"
   ]
  }
 ],
 "metadata": {
  "kernelspec": {
   "display_name": "Python 3",
   "language": "python",
   "name": "python3"
  },
  "language_info": {
   "codemirror_mode": {
    "name": "ipython",
    "version": 3
   },
   "file_extension": ".py",
   "mimetype": "text/x-python",
   "name": "python",
   "nbconvert_exporter": "python",
   "pygments_lexer": "ipython3",
   "version": "3.6.0"
  }
 },
 "nbformat": 4,
 "nbformat_minor": 2
}
