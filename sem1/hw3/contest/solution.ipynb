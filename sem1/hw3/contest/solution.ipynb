{
 "cells": [
  {
   "cell_type": "code",
   "execution_count": 5,
   "metadata": {
    "collapsed": true,
    "deletable": true,
    "editable": true
   },
   "outputs": [],
   "source": [
    "import pandas as pd\n",
    "import numpy as np\n",
    "from matplotlib import pyplot as plt\n",
    "%matplotlib inline\n",
    "\n",
    "prefix = \"../../data/contest/\"\n",
    "train = pd.read_csv(prefix + \"train.tsv\")\n",
    "test = pd.read_csv(prefix + \"test.tsv\")\n",
    "sample_submission = pd.read_csv(prefix + \"sample_submission.tsv\")"
   ]
  },
  {
   "cell_type": "code",
   "execution_count": 6,
   "metadata": {
    "collapsed": true,
    "deletable": true,
    "editable": true
   },
   "outputs": [],
   "source": [
    "from sklearn.model_selection import train_test_split\n",
    "\n",
    "frac = 1 # fraction of learning examples used for model fitting\n",
    "\n",
    "# sample the train set if your don't want to deel with all examples\n",
    "train = train.sample(frac=frac, random_state=501)"
   ]
  },
  {
   "cell_type": "code",
   "execution_count": 7,
   "metadata": {
    "collapsed": false,
    "deletable": true,
    "editable": true
   },
   "outputs": [
    {
     "name": "stdout",
     "output_type": "stream",
     "text": [
      "72457\n"
     ]
    }
   ],
   "source": [
    "train_data = test_data = train.drop(['Num'], axis=1).iloc[:, :-30]\n",
    "# for i in range(1, 31):\n",
    "#     train_data['f' + str(i)] = np.log(train_data['f' + str(i)])\n",
    "\n",
    "# train_data = train_data.replace([-np.inf, np.inf], np.nan).dropna()\n",
    "    \n",
    "print(len(train_data))"
   ]
  },
  {
   "cell_type": "code",
   "execution_count": 66,
   "metadata": {
    "collapsed": false,
    "deletable": true,
    "editable": true
   },
   "outputs": [],
   "source": [
    "train_data.replace?"
   ]
  },
  {
   "cell_type": "code",
   "execution_count": 63,
   "metadata": {
    "collapsed": false,
    "deletable": true,
    "editable": true
   },
   "outputs": [
    {
     "data": {
      "text/html": [
       "<div>\n",
       "<table border=\"1\" class=\"dataframe\">\n",
       "  <thead>\n",
       "    <tr style=\"text-align: right;\">\n",
       "      <th></th>\n",
       "      <th>y</th>\n",
       "      <th>year</th>\n",
       "      <th>week</th>\n",
       "      <th>shift</th>\n",
       "      <th>item_id</th>\n",
       "      <th>f1</th>\n",
       "      <th>f2</th>\n",
       "      <th>f3</th>\n",
       "      <th>f4</th>\n",
       "      <th>f5</th>\n",
       "      <th>...</th>\n",
       "      <th>f21</th>\n",
       "      <th>f22</th>\n",
       "      <th>f23</th>\n",
       "      <th>f24</th>\n",
       "      <th>f25</th>\n",
       "      <th>f26</th>\n",
       "      <th>f27</th>\n",
       "      <th>f28</th>\n",
       "      <th>f29</th>\n",
       "      <th>f30</th>\n",
       "    </tr>\n",
       "  </thead>\n",
       "  <tbody>\n",
       "    <tr>\n",
       "      <th>62428</th>\n",
       "      <td>2577</td>\n",
       "      <td>2014</td>\n",
       "      <td>40</td>\n",
       "      <td>1</td>\n",
       "      <td>20438687</td>\n",
       "      <td>9.781602</td>\n",
       "      <td>9.673445</td>\n",
       "      <td>9.749753</td>\n",
       "      <td>9.797293</td>\n",
       "      <td>9.786954</td>\n",
       "      <td>...</td>\n",
       "      <td>9.692149</td>\n",
       "      <td>9.784986</td>\n",
       "      <td>9.637371</td>\n",
       "      <td>9.789759</td>\n",
       "      <td>9.675645</td>\n",
       "      <td>9.651173</td>\n",
       "      <td>9.464672</td>\n",
       "      <td>8.885303</td>\n",
       "      <td>8.396155</td>\n",
       "      <td>8.011355</td>\n",
       "    </tr>\n",
       "    <tr>\n",
       "      <th>31912</th>\n",
       "      <td>15673</td>\n",
       "      <td>2013</td>\n",
       "      <td>47</td>\n",
       "      <td>2</td>\n",
       "      <td>20438673</td>\n",
       "      <td>9.104202</td>\n",
       "      <td>9.321345</td>\n",
       "      <td>9.072227</td>\n",
       "      <td>8.997147</td>\n",
       "      <td>9.231123</td>\n",
       "      <td>...</td>\n",
       "      <td>9.031214</td>\n",
       "      <td>9.141633</td>\n",
       "      <td>9.182866</td>\n",
       "      <td>9.319643</td>\n",
       "      <td>9.163773</td>\n",
       "      <td>9.164296</td>\n",
       "      <td>9.159047</td>\n",
       "      <td>9.188606</td>\n",
       "      <td>9.490998</td>\n",
       "      <td>8.509161</td>\n",
       "    </tr>\n",
       "    <tr>\n",
       "      <th>66545</th>\n",
       "      <td>681</td>\n",
       "      <td>2014</td>\n",
       "      <td>46</td>\n",
       "      <td>1</td>\n",
       "      <td>20438923</td>\n",
       "      <td>7.659171</td>\n",
       "      <td>7.718685</td>\n",
       "      <td>7.878534</td>\n",
       "      <td>7.377759</td>\n",
       "      <td>7.580700</td>\n",
       "      <td>...</td>\n",
       "      <td>6.152733</td>\n",
       "      <td>5.940171</td>\n",
       "      <td>5.598422</td>\n",
       "      <td>5.913503</td>\n",
       "      <td>5.940171</td>\n",
       "      <td>4.382027</td>\n",
       "      <td>4.094345</td>\n",
       "      <td>3.401197</td>\n",
       "      <td>4.248495</td>\n",
       "      <td>3.912023</td>\n",
       "    </tr>\n",
       "    <tr>\n",
       "      <th>22831</th>\n",
       "      <td>1030</td>\n",
       "      <td>2013</td>\n",
       "      <td>33</td>\n",
       "      <td>1</td>\n",
       "      <td>20449962</td>\n",
       "      <td>5.541264</td>\n",
       "      <td>5.843544</td>\n",
       "      <td>6.313548</td>\n",
       "      <td>5.799093</td>\n",
       "      <td>6.244167</td>\n",
       "      <td>...</td>\n",
       "      <td>6.536692</td>\n",
       "      <td>5.370638</td>\n",
       "      <td>6.309918</td>\n",
       "      <td>6.665684</td>\n",
       "      <td>6.593045</td>\n",
       "      <td>6.396930</td>\n",
       "      <td>6.586172</td>\n",
       "      <td>6.785588</td>\n",
       "      <td>6.606650</td>\n",
       "      <td>6.818924</td>\n",
       "    </tr>\n",
       "    <tr>\n",
       "      <th>33081</th>\n",
       "      <td>6963</td>\n",
       "      <td>2013</td>\n",
       "      <td>48</td>\n",
       "      <td>1</td>\n",
       "      <td>20439405</td>\n",
       "      <td>8.274357</td>\n",
       "      <td>7.771067</td>\n",
       "      <td>8.202482</td>\n",
       "      <td>8.266164</td>\n",
       "      <td>8.377931</td>\n",
       "      <td>...</td>\n",
       "      <td>8.236156</td>\n",
       "      <td>8.385945</td>\n",
       "      <td>8.313852</td>\n",
       "      <td>7.922986</td>\n",
       "      <td>8.032685</td>\n",
       "      <td>8.056744</td>\n",
       "      <td>8.437067</td>\n",
       "      <td>7.469084</td>\n",
       "      <td>7.939515</td>\n",
       "      <td>8.081784</td>\n",
       "    </tr>\n",
       "  </tbody>\n",
       "</table>\n",
       "<p>5 rows × 35 columns</p>\n",
       "</div>"
      ],
      "text/plain": [
       "           y  year  week  shift   item_id        f1        f2        f3  \\\n",
       "62428   2577  2014    40      1  20438687  9.781602  9.673445  9.749753   \n",
       "31912  15673  2013    47      2  20438673  9.104202  9.321345  9.072227   \n",
       "66545    681  2014    46      1  20438923  7.659171  7.718685  7.878534   \n",
       "22831   1030  2013    33      1  20449962  5.541264  5.843544  6.313548   \n",
       "33081   6963  2013    48      1  20439405  8.274357  7.771067  8.202482   \n",
       "\n",
       "             f4        f5    ...          f21       f22       f23       f24  \\\n",
       "62428  9.797293  9.786954    ...     9.692149  9.784986  9.637371  9.789759   \n",
       "31912  8.997147  9.231123    ...     9.031214  9.141633  9.182866  9.319643   \n",
       "66545  7.377759  7.580700    ...     6.152733  5.940171  5.598422  5.913503   \n",
       "22831  5.799093  6.244167    ...     6.536692  5.370638  6.309918  6.665684   \n",
       "33081  8.266164  8.377931    ...     8.236156  8.385945  8.313852  7.922986   \n",
       "\n",
       "            f25       f26       f27       f28       f29       f30  \n",
       "62428  9.675645  9.651173  9.464672  8.885303  8.396155  8.011355  \n",
       "31912  9.163773  9.164296  9.159047  9.188606  9.490998  8.509161  \n",
       "66545  5.940171  4.382027  4.094345  3.401197  4.248495  3.912023  \n",
       "22831  6.593045  6.396930  6.586172  6.785588  6.606650  6.818924  \n",
       "33081  8.032685  8.056744  8.437067  7.469084  7.939515  8.081784  \n",
       "\n",
       "[5 rows x 35 columns]"
      ]
     },
     "execution_count": 63,
     "metadata": {},
     "output_type": "execute_result"
    }
   ],
   "source": [
    "train_data.head()"
   ]
  },
  {
   "cell_type": "code",
   "execution_count": 6,
   "metadata": {
    "collapsed": true,
    "deletable": true,
    "editable": true
   },
   "outputs": [],
   "source": [
    "def smape(y1, y2):\n",
    "    y1 = np.array(y1)\n",
    "    y2 = np.array(y2)\n",
    "    n = len(y1)\n",
    "    return np.sum(2 * np.absolute(y1 - y2) / n / (np.absolute(y1) + np.absolute(y2)))\n",
    "\n",
    "\n",
    "from sklearn.model_selection import cross_val_score\n",
    "from sklearn.metrics import make_scorer\n",
    "\n",
    "\n",
    "def cross_validation(model, k=5, frac=0.8, metric=smape):\n",
    "    N = int(len(test_data) * frac)\n",
    "    delta = (len(test_data) - N) // k\n",
    "    \n",
    "    X = test_data.drop(['y'], axis=1)\n",
    "    y = test_data['y']\n",
    "    \n",
    "    score = 0.\n",
    "    for i in range(k):\n",
    "        n = int(N * frac)\n",
    "        cv_x_train = X.iloc[i * delta:i * delta + n, :]\n",
    "        cv_x_test = X.iloc[i * delta + n:i * delta + N, :]\n",
    "        cv_y_train = y.iloc[i * delta:i * delta + n]\n",
    "        cv_y_test = y.iloc[i * delta + n:i * delta + N]\n",
    "        \n",
    "        model.fit(cv_x_train, np.log(cv_y_train))\n",
    "        score += metric(cv_y_test, np.exp(model.predict(cv_x_test)))\n",
    "    \n",
    "    return score / k"
   ]
  },
  {
   "cell_type": "code",
   "execution_count": 101,
   "metadata": {
    "collapsed": false,
    "deletable": true,
    "editable": true,
    "scrolled": true
   },
   "outputs": [
    {
     "name": "stdout",
     "output_type": "stream",
     "text": [
      "105 0.280274003791\n",
      "115 0.280012053199\n",
      "125 0.279883893331\n",
      "135 0.279180528879\n",
      "145 0.279205595682\n",
      "155 0.279403749193\n",
      "CPU times: user 3min 32s, sys: 777 ms, total: 3min 33s\n",
      "Wall time: 2min 2s\n"
     ]
    }
   ],
   "source": [
    "%%time\n",
    "from sklearn.ensemble import RandomForestRegressor\n",
    "for n in range(105, 156, 10):\n",
    "    print(n, cross_validation(RandomForestRegressor(n_estimators=n, n_jobs=3, random_state=501)))"
   ]
  },
  {
   "cell_type": "code",
   "execution_count": 104,
   "metadata": {
    "collapsed": false,
    "deletable": true,
    "editable": true
   },
   "outputs": [
    {
     "name": "stdout",
     "output_type": "stream",
     "text": [
      "135 0.279180528879\n",
      "137 0.279248574516\n",
      "139 0.279153645524\n",
      "141 0.2790465229\n",
      "143 0.279181152082\n",
      "145 0.279205595682\n",
      "CPU times: user 3min 48s, sys: 910 ms, total: 3min 49s\n",
      "Wall time: 2min 9s\n"
     ]
    }
   ],
   "source": [
    "%%time\n",
    "from sklearn.ensemble import RandomForestRegressor\n",
    "for n in range(135, 146, 2):\n",
    "    print(n, cross_validation(RandomForestRegressor(n_estimators=n, n_jobs=3, random_state=501)))"
   ]
  },
  {
   "cell_type": "code",
   "execution_count": 77,
   "metadata": {
    "collapsed": false,
    "deletable": true,
    "editable": true
   },
   "outputs": [
    {
     "name": "stdout",
     "output_type": "stream",
     "text": [
      "105 0.259631978575\n",
      "115 0.259164143008\n",
      "125 0.259027507523\n",
      "135 0.258949881645\n",
      "145 0.258800741234\n",
      "155 0.258875362249\n",
      "CPU times: user 1min 12s, sys: 467 ms, total: 1min 12s\n",
      "Wall time: 43.5 s\n"
     ]
    }
   ],
   "source": [
    "%%time\n",
    "from sklearn.ensemble import ExtraTreesRegressor\n",
    "for n in range(105, 156, 10):\n",
    "    print(n, cross_validation(ExtraTreesRegressor(n_estimators=n, n_jobs=3, random_state=501)))"
   ]
  },
  {
   "cell_type": "code",
   "execution_count": 78,
   "metadata": {
    "collapsed": false,
    "deletable": true,
    "editable": true,
    "scrolled": true
   },
   "outputs": [
    {
     "name": "stdout",
     "output_type": "stream",
     "text": [
      "135 0.258949881645\n",
      "137 0.258926019885\n",
      "139 0.258965054746\n",
      "141 0.258873945969\n",
      "143 0.258771527139\n",
      "145 0.258800741234\n",
      "CPU times: user 1min 17s, sys: 390 ms, total: 1min 17s\n",
      "Wall time: 45.4 s\n"
     ]
    }
   ],
   "source": [
    "%%time\n",
    "from sklearn.ensemble import ExtraTreesRegressor\n",
    "for n in range(135, 146, 2):\n",
    "    print(n, cross_validation(ExtraTreesRegressor(n_estimators=n, n_jobs=3, random_state=501)))"
   ]
  },
  {
   "cell_type": "code",
   "execution_count": 12,
   "metadata": {
    "collapsed": false,
    "deletable": true,
    "editable": true
   },
   "outputs": [
    {
     "name": "stdout",
     "output_type": "stream",
     "text": [
      "180 0.254376752537\n",
      "200 0.25325860987\n",
      "220 0.252453209902\n",
      "240 0.25156683019\n",
      "260 0.250527146651\n",
      "280 0.249798315588\n",
      "CPU times: user 1min 27s, sys: 843 ms, total: 1min 28s\n",
      "Wall time: 49.2 s\n"
     ]
    }
   ],
   "source": [
    "%%time\n",
    "from xgboost import XGBRegressor\n",
    "for n in range(180, 282, 20):\n",
    "    print(n, cross_validation(XGBRegressor(n_estimators=n, nthread=3)))"
   ]
  },
  {
   "cell_type": "code",
   "execution_count": 26,
   "metadata": {
    "collapsed": false,
    "deletable": true,
    "editable": true,
    "scrolled": true
   },
   "outputs": [
    {
     "name": "stdout",
     "output_type": "stream",
     "text": [
      "1 0.291424389096\n",
      "3 0.24620464232\n",
      "5 0.23554554669\n",
      "7 0.236361265904\n"
     ]
    },
    {
     "ename": "KeyboardInterrupt",
     "evalue": "",
     "output_type": "error",
     "traceback": [
      "\u001b[0;31m---------------------------------------------------------------------------\u001b[0m",
      "\u001b[0;31mKeyboardInterrupt\u001b[0m                         Traceback (most recent call last)",
      "\u001b[0;32m<ipython-input-26-8e2ffe4bed6d>\u001b[0m in \u001b[0;36m<module>\u001b[0;34m()\u001b[0m\n\u001b[1;32m      1\u001b[0m \u001b[0;32mfor\u001b[0m \u001b[0md\u001b[0m \u001b[0;32min\u001b[0m \u001b[0mrange\u001b[0m\u001b[0;34m(\u001b[0m\u001b[0;36m1\u001b[0m\u001b[0;34m,\u001b[0m \u001b[0;36m21\u001b[0m\u001b[0;34m,\u001b[0m \u001b[0;36m2\u001b[0m\u001b[0;34m)\u001b[0m\u001b[0;34m:\u001b[0m\u001b[0;34m\u001b[0m\u001b[0m\n\u001b[0;32m----> 2\u001b[0;31m     \u001b[0mprint\u001b[0m\u001b[0;34m(\u001b[0m\u001b[0md\u001b[0m\u001b[0;34m,\u001b[0m \u001b[0mcross_validation\u001b[0m\u001b[0;34m(\u001b[0m\u001b[0mXGBRegressor\u001b[0m\u001b[0;34m(\u001b[0m\u001b[0mn_estimators\u001b[0m\u001b[0;34m=\u001b[0m\u001b[0;36m360\u001b[0m\u001b[0;34m,\u001b[0m \u001b[0mnthread\u001b[0m\u001b[0;34m=\u001b[0m\u001b[0;36m3\u001b[0m\u001b[0;34m,\u001b[0m \u001b[0mmax_depth\u001b[0m\u001b[0;34m=\u001b[0m\u001b[0md\u001b[0m\u001b[0;34m)\u001b[0m\u001b[0;34m)\u001b[0m\u001b[0;34m)\u001b[0m\u001b[0;34m\u001b[0m\u001b[0m\n\u001b[0m",
      "\u001b[0;32m<ipython-input-5-ddbaa4302c8d>\u001b[0m in \u001b[0;36mcross_validation\u001b[0;34m(model, k, frac, metric)\u001b[0m\n\u001b[1;32m     25\u001b[0m         \u001b[0mcv_y_test\u001b[0m \u001b[0;34m=\u001b[0m \u001b[0my\u001b[0m\u001b[0;34m.\u001b[0m\u001b[0miloc\u001b[0m\u001b[0;34m[\u001b[0m\u001b[0mi\u001b[0m \u001b[0;34m*\u001b[0m \u001b[0mdelta\u001b[0m \u001b[0;34m+\u001b[0m \u001b[0mn\u001b[0m\u001b[0;34m:\u001b[0m\u001b[0mi\u001b[0m \u001b[0;34m*\u001b[0m \u001b[0mdelta\u001b[0m \u001b[0;34m+\u001b[0m \u001b[0mN\u001b[0m\u001b[0;34m]\u001b[0m\u001b[0;34m\u001b[0m\u001b[0m\n\u001b[1;32m     26\u001b[0m \u001b[0;34m\u001b[0m\u001b[0m\n\u001b[0;32m---> 27\u001b[0;31m         \u001b[0mmodel\u001b[0m\u001b[0;34m.\u001b[0m\u001b[0mfit\u001b[0m\u001b[0;34m(\u001b[0m\u001b[0mcv_x_train\u001b[0m\u001b[0;34m,\u001b[0m \u001b[0mnp\u001b[0m\u001b[0;34m.\u001b[0m\u001b[0mlog\u001b[0m\u001b[0;34m(\u001b[0m\u001b[0mcv_y_train\u001b[0m\u001b[0;34m)\u001b[0m\u001b[0;34m)\u001b[0m\u001b[0;34m\u001b[0m\u001b[0m\n\u001b[0m\u001b[1;32m     28\u001b[0m         \u001b[0mscore\u001b[0m \u001b[0;34m+=\u001b[0m \u001b[0mmetric\u001b[0m\u001b[0;34m(\u001b[0m\u001b[0mcv_y_test\u001b[0m\u001b[0;34m,\u001b[0m \u001b[0mnp\u001b[0m\u001b[0;34m.\u001b[0m\u001b[0mexp\u001b[0m\u001b[0;34m(\u001b[0m\u001b[0mmodel\u001b[0m\u001b[0;34m.\u001b[0m\u001b[0mpredict\u001b[0m\u001b[0;34m(\u001b[0m\u001b[0mcv_x_test\u001b[0m\u001b[0;34m)\u001b[0m\u001b[0;34m)\u001b[0m\u001b[0;34m)\u001b[0m\u001b[0;34m\u001b[0m\u001b[0m\n\u001b[1;32m     29\u001b[0m \u001b[0;34m\u001b[0m\u001b[0m\n",
      "\u001b[0;32m/usr/lib/python3.6/site-packages/xgboost/sklearn.py\u001b[0m in \u001b[0;36mfit\u001b[0;34m(self, X, y, sample_weight, eval_set, eval_metric, early_stopping_rounds, verbose)\u001b[0m\n\u001b[1;32m    254\u001b[0m                               \u001b[0mearly_stopping_rounds\u001b[0m\u001b[0;34m=\u001b[0m\u001b[0mearly_stopping_rounds\u001b[0m\u001b[0;34m,\u001b[0m\u001b[0;34m\u001b[0m\u001b[0m\n\u001b[1;32m    255\u001b[0m                               \u001b[0mevals_result\u001b[0m\u001b[0;34m=\u001b[0m\u001b[0mevals_result\u001b[0m\u001b[0;34m,\u001b[0m \u001b[0mobj\u001b[0m\u001b[0;34m=\u001b[0m\u001b[0mobj\u001b[0m\u001b[0;34m,\u001b[0m \u001b[0mfeval\u001b[0m\u001b[0;34m=\u001b[0m\u001b[0mfeval\u001b[0m\u001b[0;34m,\u001b[0m\u001b[0;34m\u001b[0m\u001b[0m\n\u001b[0;32m--> 256\u001b[0;31m                               verbose_eval=verbose)\n\u001b[0m\u001b[1;32m    257\u001b[0m \u001b[0;34m\u001b[0m\u001b[0m\n\u001b[1;32m    258\u001b[0m         \u001b[0;32mif\u001b[0m \u001b[0mevals_result\u001b[0m\u001b[0;34m:\u001b[0m\u001b[0;34m\u001b[0m\u001b[0m\n",
      "\u001b[0;32m/usr/lib/python3.6/site-packages/xgboost/training.py\u001b[0m in \u001b[0;36mtrain\u001b[0;34m(params, dtrain, num_boost_round, evals, obj, feval, maximize, early_stopping_rounds, evals_result, verbose_eval, xgb_model, callbacks, learning_rates)\u001b[0m\n\u001b[1;32m    202\u001b[0m                            \u001b[0mevals\u001b[0m\u001b[0;34m=\u001b[0m\u001b[0mevals\u001b[0m\u001b[0;34m,\u001b[0m\u001b[0;34m\u001b[0m\u001b[0m\n\u001b[1;32m    203\u001b[0m                            \u001b[0mobj\u001b[0m\u001b[0;34m=\u001b[0m\u001b[0mobj\u001b[0m\u001b[0;34m,\u001b[0m \u001b[0mfeval\u001b[0m\u001b[0;34m=\u001b[0m\u001b[0mfeval\u001b[0m\u001b[0;34m,\u001b[0m\u001b[0;34m\u001b[0m\u001b[0m\n\u001b[0;32m--> 204\u001b[0;31m                            xgb_model=xgb_model, callbacks=callbacks)\n\u001b[0m\u001b[1;32m    205\u001b[0m \u001b[0;34m\u001b[0m\u001b[0m\n\u001b[1;32m    206\u001b[0m \u001b[0;34m\u001b[0m\u001b[0m\n",
      "\u001b[0;32m/usr/lib/python3.6/site-packages/xgboost/training.py\u001b[0m in \u001b[0;36m_train_internal\u001b[0;34m(params, dtrain, num_boost_round, evals, obj, feval, xgb_model, callbacks)\u001b[0m\n\u001b[1;32m     72\u001b[0m         \u001b[0;31m# Skip the first update if it is a recovery step.\u001b[0m\u001b[0;34m\u001b[0m\u001b[0;34m\u001b[0m\u001b[0m\n\u001b[1;32m     73\u001b[0m         \u001b[0;32mif\u001b[0m \u001b[0mversion\u001b[0m \u001b[0;34m%\u001b[0m \u001b[0;36m2\u001b[0m \u001b[0;34m==\u001b[0m \u001b[0;36m0\u001b[0m\u001b[0;34m:\u001b[0m\u001b[0;34m\u001b[0m\u001b[0m\n\u001b[0;32m---> 74\u001b[0;31m             \u001b[0mbst\u001b[0m\u001b[0;34m.\u001b[0m\u001b[0mupdate\u001b[0m\u001b[0;34m(\u001b[0m\u001b[0mdtrain\u001b[0m\u001b[0;34m,\u001b[0m \u001b[0mi\u001b[0m\u001b[0;34m,\u001b[0m \u001b[0mobj\u001b[0m\u001b[0;34m)\u001b[0m\u001b[0;34m\u001b[0m\u001b[0m\n\u001b[0m\u001b[1;32m     75\u001b[0m             \u001b[0mbst\u001b[0m\u001b[0;34m.\u001b[0m\u001b[0msave_rabit_checkpoint\u001b[0m\u001b[0;34m(\u001b[0m\u001b[0;34m)\u001b[0m\u001b[0;34m\u001b[0m\u001b[0m\n\u001b[1;32m     76\u001b[0m             \u001b[0mversion\u001b[0m \u001b[0;34m+=\u001b[0m \u001b[0;36m1\u001b[0m\u001b[0;34m\u001b[0m\u001b[0m\n",
      "\u001b[0;32m/usr/lib/python3.6/site-packages/xgboost/core.py\u001b[0m in \u001b[0;36mupdate\u001b[0;34m(self, dtrain, iteration, fobj)\u001b[0m\n\u001b[1;32m    817\u001b[0m \u001b[0;34m\u001b[0m\u001b[0m\n\u001b[1;32m    818\u001b[0m         \u001b[0;32mif\u001b[0m \u001b[0mfobj\u001b[0m \u001b[0;32mis\u001b[0m \u001b[0;32mNone\u001b[0m\u001b[0;34m:\u001b[0m\u001b[0;34m\u001b[0m\u001b[0m\n\u001b[0;32m--> 819\u001b[0;31m             \u001b[0m_check_call\u001b[0m\u001b[0;34m(\u001b[0m\u001b[0m_LIB\u001b[0m\u001b[0;34m.\u001b[0m\u001b[0mXGBoosterUpdateOneIter\u001b[0m\u001b[0;34m(\u001b[0m\u001b[0mself\u001b[0m\u001b[0;34m.\u001b[0m\u001b[0mhandle\u001b[0m\u001b[0;34m,\u001b[0m \u001b[0miteration\u001b[0m\u001b[0;34m,\u001b[0m \u001b[0mdtrain\u001b[0m\u001b[0;34m.\u001b[0m\u001b[0mhandle\u001b[0m\u001b[0;34m)\u001b[0m\u001b[0;34m)\u001b[0m\u001b[0;34m\u001b[0m\u001b[0m\n\u001b[0m\u001b[1;32m    820\u001b[0m         \u001b[0;32melse\u001b[0m\u001b[0;34m:\u001b[0m\u001b[0;34m\u001b[0m\u001b[0m\n\u001b[1;32m    821\u001b[0m             \u001b[0mpred\u001b[0m \u001b[0;34m=\u001b[0m \u001b[0mself\u001b[0m\u001b[0;34m.\u001b[0m\u001b[0mpredict\u001b[0m\u001b[0;34m(\u001b[0m\u001b[0mdtrain\u001b[0m\u001b[0;34m)\u001b[0m\u001b[0;34m\u001b[0m\u001b[0m\n",
      "\u001b[0;31mKeyboardInterrupt\u001b[0m: "
     ]
    }
   ],
   "source": [
    "for d in range(1, 21, 2):\n",
    "    print(d, cross_validation(XGBRegressor(n_estimators=360, nthread=3, max_depth=d)))"
   ]
  },
  {
   "cell_type": "markdown",
   "metadata": {
    "deletable": true,
    "editable": true
   },
   "source": [
    "# Ищем ответы на запросы в самих запросах"
   ]
  },
  {
   "cell_type": "code",
   "execution_count": 4,
   "metadata": {
    "collapsed": true,
    "deletable": true,
    "editable": true
   },
   "outputs": [],
   "source": [
    "smth = train.sort_values(by=['item_id', 'year', 'week']).loc[train['shift'] == 1].iloc[:100, [2, 3, 4, 5, 6, -3, -2, -1, 1]]"
   ]
  },
  {
   "cell_type": "code",
   "execution_count": 8,
   "metadata": {
    "collapsed": false,
    "deletable": true,
    "editable": true
   },
   "outputs": [
    {
     "data": {
      "image/png": "[encoded data removed]",
      "text/plain": [
       "<matplotlib.figure.Figure at 0x7f964c63de80>"
      ]
     },
     "metadata": {},
     "output_type": "display_data"
    },
    {
     "name": "stdout",
     "output_type": "stream",
     "text": [
      "0.000193242515351\n"
     ]
    }
   ],
   "source": [
    "plt.plot(range(len(smth)), smth['y'] * 0.62)\n",
    "plt.plot(range(-1, len(smth) - 1), smth['f60'])\n",
    "plt.show()\n",
    "\n",
    "print(smape(smth['y'].iloc[:-1] * 0.621, smth['f60'].iloc[1:]))"
   ]
  },
  {
   "cell_type": "code",
   "execution_count": 8,
   "metadata": {
    "collapsed": false,
    "deletable": true,
    "editable": true
   },
   "outputs": [],
   "source": [
    "coef = 0.621"
   ]
  },
  {
   "cell_type": "code",
   "execution_count": 175,
   "metadata": {
    "collapsed": false,
    "deletable": true,
    "editable": true,
    "scrolled": false
   },
   "outputs": [],
   "source": [
    "smth = test.sort_values(by=['item_id', 'year', 'week']).loc[test['shift'] == 2].iloc[:, [1, 2, 3, 4, 5, 6, -2, -1]]"
   ]
  },
  {
   "cell_type": "code",
   "execution_count": 25,
   "metadata": {
    "collapsed": false,
    "deletable": true,
    "editable": true,
    "scrolled": true
   },
   "outputs": [],
   "source": [
    "good_pred = dict()\n",
    "\n",
    "ids = list(test['Num'])\n",
    "\n",
    "for idx in ids:\n",
    "    row = test.loc[test['Num'] == idx]\n",
    "#     next_row = test.loc[test['item_id'] == int(row['item_id'])]\\\n",
    "#     .loc[test['year'] == int(row['year'])]\\\n",
    "#     .loc[test['week'] == int(row['week']) + int(row['shift'])]\\\n",
    "#     .loc[test['shift'] == int(row['shift'])] # the same shift\n",
    "    \n",
    "    good_pred[(int(row['item_id']), int(row['year']), int(row['week']) - int(row['shift']))] = float(row['f60']) / coef"
   ]
  },
  {
   "cell_type": "code",
   "execution_count": 27,
   "metadata": {
    "collapsed": false,
    "deletable": true,
    "editable": true
   },
   "outputs": [
    {
     "data": {
      "text/plain": [
       "1127"
      ]
     },
     "execution_count": 27,
     "metadata": {},
     "output_type": "execute_result"
    }
   ],
   "source": [
    "len(good_pred)"
   ]
  },
  {
   "cell_type": "markdown",
   "metadata": {
    "deletable": true,
    "editable": true
   },
   "source": [
    "# Для отправки"
   ]
  },
  {
   "cell_type": "code",
   "execution_count": 14,
   "metadata": {
    "collapsed": false,
    "deletable": true,
    "editable": true
   },
   "outputs": [],
   "source": [
    "from sklearn.ensemble import RandomForestRegressor\n",
    "\n",
    "# model = ExtraTreesRegressor(n_estimators=143, n_jobs=3, random_state=501)\n",
    "model = RandomForestRegressor(n_estimators=88, n_jobs=3, random_state=501)\n",
    "# model = XGBRegressor(n_estimators=360, nthread=3, max_depth=5)"
   ]
  },
  {
   "cell_type": "code",
   "execution_count": 275,
   "metadata": {
    "collapsed": false,
    "deletable": true,
    "editable": true
   },
   "outputs": [
    {
     "name": "stdout",
     "output_type": "stream",
     "text": [
      "57965\n",
      "0.216735894921\n"
     ]
    }
   ],
   "source": [
    "N = int(test_data.shape[0] * 0.8)\n",
    "print(N)\n",
    "X = test_data.drop(['y'], axis=1).iloc[:N, :]\n",
    "y = test_data['y'].iloc[:N]\n",
    "model.fit(X, np.log(y))\n",
    "\n",
    "print(smape(test_data['y'].iloc[N:], np.exp(model.predict(test_data.drop(['y'], axis=1).iloc[N:, :]))))"
   ]
  },
  {
   "cell_type": "markdown",
   "metadata": {
    "deletable": true,
    "editable": true
   },
   "source": [
    "0.216107192774 - на всех данных\n",
    "\n",
    "0.2503 - на .1"
   ]
  },
  {
   "cell_type": "code",
   "execution_count": 15,
   "metadata": {
    "collapsed": false,
    "deletable": true,
    "editable": true
   },
   "outputs": [
    {
     "data": {
      "text/plain": [
       "RandomForestRegressor(bootstrap=True, criterion='mse', max_depth=None,\n",
       "           max_features='auto', max_leaf_nodes=None,\n",
       "           min_impurity_split=1e-07, min_samples_leaf=1,\n",
       "           min_samples_split=2, min_weight_fraction_leaf=0.0,\n",
       "           n_estimators=88, n_jobs=3, oob_score=False, random_state=501,\n",
       "           verbose=0, warm_start=False)"
      ]
     },
     "execution_count": 15,
     "metadata": {},
     "output_type": "execute_result"
    }
   ],
   "source": [
    "X = test_data.drop(['y'], axis=1)\n",
    "y = test_data['y']\n",
    "model.fit(X, np.log(y))"
   ]
  },
  {
   "cell_type": "code",
   "execution_count": 16,
   "metadata": {
    "collapsed": false,
    "deletable": true,
    "editable": true
   },
   "outputs": [
    {
     "name": "stdout",
     "output_type": "stream",
     "text": [
      "2016\n",
      "2016\n"
     ]
    }
   ],
   "source": [
    "preds = np.exp(model.predict(test.drop(['Num'], axis=1).iloc[:, :-30]))\n",
    "\n",
    "print(len(preds))\n",
    "print(len(sample_submission))"
   ]
  },
  {
   "cell_type": "code",
   "execution_count": 28,
   "metadata": {
    "collapsed": false,
    "deletable": true,
    "editable": true
   },
   "outputs": [],
   "source": [
    "def update_submission(submission):\n",
    "    n = submission.shape[0]\n",
    "    num_to_id = dict()\n",
    "    \n",
    "    raw = submission.to_dict()\n",
    "    \n",
    "    for idx, num in raw['Num'].items():\n",
    "        num_to_id[num] = idx\n",
    "    \n",
    "    for idx in raw['y']:\n",
    "        row = test.loc[test['Num'] == raw['Num'][idx]]\n",
    "        raw['y'][idx] = good_pred.get((int(row['item_id']), int(row['year']), int(row['week'])), raw['y'][idx])\n",
    "    \n",
    "    return pd.DataFrame.from_dict(raw)\n",
    "\n",
    "\n",
    "sample_submission['y'] = preds\n",
    "sample_submission = update_submission(sample_submission)"
   ]
  },
  {
   "cell_type": "code",
   "execution_count": 29,
   "metadata": {
    "collapsed": false,
    "deletable": true,
    "editable": true
   },
   "outputs": [
    {
     "name": "stdout",
     "output_type": "stream",
     "text": [
      "Empty DataFrame\n",
      "Columns: [Num, y]\n",
      "Index: []\n"
     ]
    }
   ],
   "source": [
    "print(sample_submission[sample_submission['y'] < 0])\n",
    "sample_submission['y'] = sample_submission['y'].map(lambda x: x if x > 0 else 0.0)"
   ]
  },
  {
   "cell_type": "code",
   "execution_count": 30,
   "metadata": {
    "collapsed": true,
    "deletable": true,
    "editable": true
   },
   "outputs": [],
   "source": [
    "sample_submission.to_csv(\"baseline_submission.tsv\", sep=',', index=False)"
   ]
  }
 ],
 "metadata": {
  "kernelspec": {
   "display_name": "Python 3",
   "language": "python",
   "name": "python3"
  },
  "language_info": {
   "codemirror_mode": {
    "name": "ipython",
    "version": 3
   },
   "file_extension": ".py",
   "mimetype": "text/x-python",
   "name": "python",
   "nbconvert_exporter": "python",
   "pygments_lexer": "ipython3",
   "version": "3.6.0"
  }
 },
 "nbformat": 4,
 "nbformat_minor": 2
}
