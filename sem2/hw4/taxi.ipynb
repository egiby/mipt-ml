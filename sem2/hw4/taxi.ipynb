{
 "cells": [
  {
   "cell_type": "markdown",
   "metadata": {},
   "source": [
    "## Вопросы для самопроверки:\n",
    "* что такое обучени с подкреплением (reinforcement learning)?\n",
    "* что такое среда?\n",
    "* что такое агент?\n",
    "* что такое награда, какая она может быть?"
   ]
  },
  {
   "cell_type": "markdown",
   "metadata": {},
   "source": [
    "#  Taxi (а на самом деле FrozenLake8x8)\n",
    "\n",
    "Такси учится долго и печально, и застревает в локальном максимуме вида \"пассажира не брать и не высаживать, просто ездить\". А FrozenLake8x8 прекрасно учится, так что пусть будет он"
   ]
  },
  {
   "cell_type": "code",
   "execution_count": 35,
   "metadata": {
    "collapsed": true
   },
   "outputs": [],
   "source": [
    "import gym\n",
    "\n",
    "#create a single game instance\n",
    "# env = gym.make(\"Taxi-v2\").env\n",
    "env = gym.make(\"FrozenLake8x8-v0\")\n",
    "# env = gym.make(\"FrozenLake-v0\")\n",
    "\n",
    "#start new game\n",
    "env.reset();"
   ]
  },
  {
   "cell_type": "code",
   "execution_count": 25,
   "metadata": {
    "collapsed": true
   },
   "outputs": [],
   "source": [
    "action2id = {\n",
    "    'south': 0,\n",
    "    'north': 1,\n",
    "    'east': 2,\n",
    "    'west': 3,\n",
    "    'pickup': 4,\n",
    "    'dropoff': 5,\n",
    "}"
   ]
  },
  {
   "cell_type": "code",
   "execution_count": 36,
   "metadata": {},
   "outputs": [
    {
     "name": "stdout",
     "output_type": "stream",
     "text": [
      "0.0\n",
      "  (Right)\n",
      "SFFFFFFF\n",
      "\u001b[41mF\u001b[0mFFFFFFF\n",
      "FFFHFFFF\n",
      "FFFFFHFF\n",
      "FFFHFFFF\n",
      "FHHFFFHF\n",
      "FHFFHFHF\n",
      "FFFHFFFG\n"
     ]
    }
   ],
   "source": [
    "# display the game state\n",
    "s, r, done, _ = env.step(2)\n",
    "print(r)\n",
    "env.render()"
   ]
  },
  {
   "cell_type": "markdown",
   "metadata": {},
   "source": [
    "### Gym interface\n",
    "\n",
    "The three main methods of an environment are\n",
    "* __reset()__ - reset environment to initial state, _return first observation_\n",
    "* __render()__ - show current environment state (a more colorful version :) )\n",
    "* __step(a)__ - commit action __a__ and return (new observation, reward, is done, info)\n",
    " * _new observation_ - an observation right after commiting the action __a__\n",
    " * _reward_ - a number representing your reward for commiting action __a__\n",
    " * _is done_ - True if the MDP has just finished, False if still in progress\n",
    " * _info_ - some auxilary stuff about what just happened. Ignore it for now"
   ]
  },
  {
   "cell_type": "code",
   "execution_count": 37,
   "metadata": {
    "scrolled": true
   },
   "outputs": [
    {
     "name": "stdout",
     "output_type": "stream",
     "text": [
      "initial observation code: 0\n",
      "printing observation:\n",
      "\n",
      "\u001b[41mS\u001b[0mFFFFFFF\n",
      "FFFFFFFF\n",
      "FFFHFFFF\n",
      "FFFFFHFF\n",
      "FFFHFFFF\n",
      "FHHFFFHF\n",
      "FHFFHFHF\n",
      "FFFHFFFG\n",
      "observations: Discrete(64) n= 64\n",
      "actions: Discrete(4) n= 4\n"
     ]
    }
   ],
   "source": [
    "print(\"initial observation code:\", env.reset())\n",
    "print('printing observation:')\n",
    "env.render()\n",
    "print(\"observations:\", env.observation_space, 'n=', env.observation_space.n)\n",
    "print(\"actions:\", env.action_space, 'n=', env.action_space.n)"
   ]
  },
  {
   "cell_type": "code",
   "execution_count": 38,
   "metadata": {},
   "outputs": [
    {
     "name": "stdout",
     "output_type": "stream",
     "text": [
      "taking action 2 (right)\n",
      "new observation code: 0\n",
      "reward: 0.0\n",
      "is game over?: False\n",
      "printing new state:\n",
      "  (Right)\n",
      "\u001b[41mS\u001b[0mFFFFFFF\n",
      "FFFFFFFF\n",
      "FFFHFFFF\n",
      "FFFFFHFF\n",
      "FFFHFFFF\n",
      "FHHFFFHF\n",
      "FHFFHFHF\n",
      "FFFHFFFG\n",
      "{'prob': 0.3333333333333333}\n"
     ]
    }
   ],
   "source": [
    "print(\"taking action 2 (right)\")\n",
    "new_obs, reward, is_done, info = env.step(2)\n",
    "print(\"new observation code:\", new_obs)\n",
    "print(\"reward:\", reward)\n",
    "print(\"is game over?:\", is_done)\n",
    "print(\"printing new state:\")\n",
    "env.render()\n",
    "print(info)"
   ]
  },
  {
   "cell_type": "markdown",
   "metadata": {},
   "source": [
    "### Baseline: random search"
   ]
  },
  {
   "cell_type": "code",
   "execution_count": 39,
   "metadata": {},
   "outputs": [
    {
     "name": "stdout",
     "output_type": "stream",
     "text": [
      "64 4\n"
     ]
    }
   ],
   "source": [
    "import numpy as np\n",
    "\n",
    "n_states = env.observation_space.n\n",
    "n_actions = env.action_space.n\n",
    "\n",
    "print(n_states, n_actions)\n",
    "\n",
    "def get_random_policy():\n",
    "    \"\"\"\n",
    "    Build a numpy array representing agent policy.\n",
    "    This array must have one element per each of 16 environment states.\n",
    "    Element must be an integer from 0 to 3, representing action\n",
    "    to take from that state.\n",
    "    \"\"\"\n",
    "    return np.random.randint(0, n_actions, size=n_states)"
   ]
  },
  {
   "cell_type": "code",
   "execution_count": 40,
   "metadata": {},
   "outputs": [
    {
     "name": "stdout",
     "output_type": "stream",
     "text": [
      "Action frequencies over 10^4 samples: [ 0.25012031  0.25034844  0.25007656  0.24945469]\n",
      "Seems fine!\n"
     ]
    }
   ],
   "source": [
    "np.random.seed(501)\n",
    "policies = [get_random_policy() for i in range(10**4)]\n",
    "assert all([len(p) == n_states for p in policies]), 'policy length should always be 16'\n",
    "assert np.min(policies) == 0, 'minimal action id should be 0'\n",
    "assert np.max(policies) == n_actions-1, 'maximal action id should match n_actions-1'\n",
    "action_probas = np.unique(policies, return_counts=True)[-1] /10**4. /n_states\n",
    "print(\"Action frequencies over 10^4 samples:\",action_probas)\n",
    "assert np.allclose(action_probas, [1. / n_actions] * n_actions, atol=0.05), \"The policies aren't uniformly random (maybe it's just an extremely bad luck)\"\n",
    "print(\"Seems fine!\")"
   ]
  },
  {
   "cell_type": "markdown",
   "metadata": {},
   "source": [
    "### Let's evaluate!\n",
    "* Implement a simple function that runs one game and returns the total reward"
   ]
  },
  {
   "cell_type": "code",
   "execution_count": 41,
   "metadata": {
    "collapsed": true
   },
   "outputs": [],
   "source": [
    "def sample_reward(env, policy, t_max=100):\n",
    "    \"\"\"\n",
    "    Interact with an environment, return sum of all rewards.\n",
    "    If game doesn't end on t_max (e.g. agent walks into a wall), \n",
    "    force end the game and return whatever reward you got so far.\n",
    "    Tip: see signature of env.step(...) method above.\n",
    "    \"\"\"\n",
    "    s = env.reset()\n",
    "    total_reward = 0\n",
    "    \n",
    "    for i in range(t_max):\n",
    "        action = policy[s]\n",
    "        s, r, done, _ = env.step(action)\n",
    "        total_reward += r\n",
    "        \n",
    "        if done:\n",
    "            break\n",
    "    \n",
    "    return total_reward"
   ]
  },
  {
   "cell_type": "code",
   "execution_count": 42,
   "metadata": {},
   "outputs": [
    {
     "data": {
      "text/plain": [
       "0"
      ]
     },
     "execution_count": 42,
     "metadata": {},
     "output_type": "execute_result"
    }
   ],
   "source": [
    "env.reset()"
   ]
  },
  {
   "cell_type": "code",
   "execution_count": 43,
   "metadata": {},
   "outputs": [
    {
     "data": {
      "text/plain": [
       "0.0"
      ]
     },
     "execution_count": 43,
     "metadata": {},
     "output_type": "execute_result"
    }
   ],
   "source": [
    "sample_reward(env, get_random_policy())"
   ]
  },
  {
   "cell_type": "code",
   "execution_count": 44,
   "metadata": {
    "scrolled": true
   },
   "outputs": [
    {
     "name": "stdout",
     "output_type": "stream",
     "text": [
      "generating 10^3 sessions...\n",
      "Looks good!\n",
      "0.0 1.0\n"
     ]
    }
   ],
   "source": [
    "print(\"generating 10^3 sessions...\")\n",
    "rewards = [sample_reward(env, get_random_policy()) for _ in range(10 ** 3)]\n",
    "assert all([type(r) in (int, float) for r in rewards]), 'sample_reward must return a single number'\n",
    "print(\"Looks good!\")\n",
    "print(min(rewards), max(rewards))"
   ]
  },
  {
   "cell_type": "code",
   "execution_count": 55,
   "metadata": {
    "collapsed": true
   },
   "outputs": [],
   "source": [
    "def evaluate(policy, n_times=100):\n",
    "    \"\"\"Run several evaluations and average the score the policy gets.\"\"\"\n",
    "    rewards = [sample_reward(env, policy) for _ in range(n_times)]\n",
    "    return float(np.mean(rewards))\n",
    "        "
   ]
  },
  {
   "cell_type": "markdown",
   "metadata": {},
   "source": [
    "### Main loop"
   ]
  },
  {
   "cell_type": "code",
   "execution_count": 46,
   "metadata": {},
   "outputs": [
    {
     "name": "stderr",
     "output_type": "stream",
     "text": [
      "  2%|▏         | 2/100 [00:00<00:07, 12.29it/s]"
     ]
    },
    {
     "name": "stdout",
     "output_type": "stream",
     "text": [
      "New best score: 0.0\n"
     ]
    },
    {
     "name": "stderr",
     "output_type": "stream",
     "text": [
      "  5%|▌         | 5/100 [00:00<00:09, 10.53it/s]"
     ]
    },
    {
     "name": "stdout",
     "output_type": "stream",
     "text": [
      "New best score: 0.01\n"
     ]
    },
    {
     "name": "stderr",
     "output_type": "stream",
     "text": [
      "100%|██████████| 100/100 [00:10<00:00, 10.08it/s]\n"
     ]
    }
   ],
   "source": [
    "from tqdm import tqdm\n",
    "\n",
    "best_policy = None\n",
    "best_score = -float('inf')\n",
    "\n",
    "\n",
    "for i in tqdm(range(100)):\n",
    "    policy = get_random_policy()\n",
    "    score = evaluate(policy)\n",
    "    if score > best_score:\n",
    "        best_score = score\n",
    "        best_policy = policy\n",
    "        print(\"New best score:\", score)"
   ]
  },
  {
   "cell_type": "markdown",
   "metadata": {},
   "source": [
    "# Part II Genetic algorithm \n",
    "\n",
    "The next task is to devise some more effecient way to perform policy search.\n",
    "We'll do that with a bare-bones evolutionary algorithm.\n",
    "[unless you're feeling masochistic and wish to do something entirely different which is bonus points if it works]"
   ]
  },
  {
   "cell_type": "code",
   "execution_count": 47,
   "metadata": {
    "collapsed": true
   },
   "outputs": [],
   "source": [
    "from scipy.stats import bernoulli\n",
    "\n",
    "p = (1, 2)\n",
    "\n"
   ]
  },
  {
   "cell_type": "code",
   "execution_count": 48,
   "metadata": {
    "collapsed": true
   },
   "outputs": [],
   "source": [
    "from scipy.stats import bernoulli\n",
    "\n",
    "\n",
    "def crossover(policy1, policy2, p=0.5):\n",
    "    \"\"\"\n",
    "    for each state, with probability p take action from policy1, else policy2\n",
    "    \"\"\"\n",
    "    policies = [policy1, policy2]\n",
    "    policy = np.zeros(len(policy1), dtype=int)\n",
    "    choises = bernoulli.rvs(p, size=len(policy1))\n",
    "    \n",
    "    for i, choise in enumerate(choises):\n",
    "        policy[i] = policies[choise][i]\n",
    "    return np.array(policy)"
   ]
  },
  {
   "cell_type": "code",
   "execution_count": 49,
   "metadata": {
    "collapsed": true
   },
   "outputs": [],
   "source": [
    "def mutation(policy, p=0.1):\n",
    "    \"\"\"\n",
    "    for each state, with probability p replace action with random action\n",
    "    Tip: mutation can be written as crossover with random policy\n",
    "    \"\"\"\n",
    "    return crossover(policy, get_random_policy(), p)\n",
    "    "
   ]
  },
  {
   "cell_type": "code",
   "execution_count": 50,
   "metadata": {
    "scrolled": true
   },
   "outputs": [
    {
     "name": "stdout",
     "output_type": "stream",
     "text": [
      "Seems fine!\n"
     ]
    }
   ],
   "source": [
    "np.random.seed(501)\n",
    "policies = [crossover(get_random_policy(), get_random_policy()) \n",
    "            for i in range(10 ** 3)]\n",
    "\n",
    "assert all([len(p) == n_states for p in policies]), 'policy length should always be 16'\n",
    "assert np.min(policies) == 0, 'minimal action id should be 0'\n",
    "assert np.max(policies) == n_actions - 1, 'maximal action id should be n_actions-1'\n",
    "\n",
    "assert any([np.mean(crossover(np.zeros(n_states), np.ones(n_states))) not in (0, 1)\n",
    "               for _ in range(100)]), \"Make sure your crossover changes each action independently\"\n",
    "print(\"Seems fine!\")"
   ]
  },
  {
   "cell_type": "code",
   "execution_count": 56,
   "metadata": {},
   "outputs": [
    {
     "name": "stderr",
     "output_type": "stream",
     "text": [
      "Process ForkPoolWorker-1:\n",
      "Process ForkPoolWorker-3:\n",
      "Process ForkPoolWorker-2:\n",
      "Traceback (most recent call last):\n",
      "  File \"/usr/lib/python3.6/multiprocessing/process.py\", line 249, in _bootstrap\n",
      "    self.run()\n",
      "Traceback (most recent call last):\n",
      "  File \"/usr/lib/python3.6/multiprocessing/process.py\", line 93, in run\n",
      "    self._target(*self._args, **self._kwargs)\n",
      "Traceback (most recent call last):\n",
      "  File \"/usr/lib/python3.6/multiprocessing/pool.py\", line 108, in worker\n",
      "    task = get()\n",
      "  File \"/usr/lib/python3.6/multiprocessing/queues.py\", line 342, in get\n",
      "    res = self._reader.recv_bytes()\n",
      "  File \"/usr/lib/python3.6/multiprocessing/connection.py\", line 216, in recv_bytes\n",
      "    buf = self._recv_bytes(maxlength)\n",
      "  File \"/usr/lib/python3.6/multiprocessing/process.py\", line 249, in _bootstrap\n",
      "    self.run()\n",
      "  File \"/usr/lib/python3.6/multiprocessing/process.py\", line 249, in _bootstrap\n",
      "    self.run()\n",
      "  File \"/usr/lib/python3.6/multiprocessing/connection.py\", line 407, in _recv_bytes\n",
      "    buf = self._recv(4)\n",
      "  File \"/usr/lib/python3.6/multiprocessing/process.py\", line 93, in run\n",
      "    self._target(*self._args, **self._kwargs)\n",
      "  File \"/usr/lib/python3.6/multiprocessing/process.py\", line 93, in run\n",
      "    self._target(*self._args, **self._kwargs)\n",
      "  File \"/usr/lib/python3.6/multiprocessing/pool.py\", line 108, in worker\n",
      "    task = get()\n",
      "  File \"/usr/lib/python3.6/multiprocessing/pool.py\", line 108, in worker\n",
      "    task = get()\n",
      "  File \"/usr/lib/python3.6/multiprocessing/connection.py\", line 379, in _recv\n",
      "    chunk = read(handle, remaining)\n",
      "  File \"/usr/lib/python3.6/multiprocessing/queues.py\", line 341, in get\n",
      "    with self._rlock:\n",
      "  File \"/usr/lib/python3.6/multiprocessing/queues.py\", line 341, in get\n",
      "    with self._rlock:\n",
      "  File \"/usr/lib/python3.6/multiprocessing/synchronize.py\", line 96, in __enter__\n",
      "    return self._semlock.__enter__()\n",
      "KeyboardInterrupt\n",
      "  File \"/usr/lib/python3.6/multiprocessing/synchronize.py\", line 96, in __enter__\n",
      "    return self._semlock.__enter__()\n",
      "KeyboardInterrupt\n",
      "KeyboardInterrupt\n"
     ]
    }
   ],
   "source": [
    "from multiprocessing import Pool\n",
    "\n",
    "executor = Pool(3)\n",
    "\n",
    "def get_scores(pool):\n",
    "    return list(executor.map(evaluate, pool))\n",
    "\n",
    "\n",
    "n_epochs = 100  # how many cycles to make\n",
    "pool_size = 100  # how many policies to maintain\n",
    "n_crossovers = 50  # how many crossovers to make on each step\n",
    "n_mutations = 50  # how many mutations to make on each tick\n"
   ]
  },
  {
   "cell_type": "code",
   "execution_count": 57,
   "metadata": {},
   "outputs": [
    {
     "name": "stdout",
     "output_type": "stream",
     "text": [
      "initializing...\n",
      "CPU times: user 3.04 ms, sys: 5.63 ms, total: 8.66 ms\n",
      "Wall time: 4.74 s\n"
     ]
    }
   ],
   "source": [
    "%%time\n",
    "print(\"initializing...\")\n",
    "pool = [get_random_policy() for _ in range(pool_size)] # spawn a list of pool_size random policies\n",
    "pool_scores = get_scores(pool)"
   ]
  },
  {
   "cell_type": "code",
   "execution_count": 58,
   "metadata": {
    "collapsed": true
   },
   "outputs": [],
   "source": [
    "assert type(pool) == type(pool_scores) == list\n",
    "assert len(pool) == len(pool_scores) == pool_size\n",
    "assert all([type(score) in (float, int) for score in pool_scores])"
   ]
  },
  {
   "cell_type": "code",
   "execution_count": 59,
   "metadata": {
    "scrolled": false
   },
   "outputs": [
    {
     "name": "stdout",
     "output_type": "stream",
     "text": [
      "Epoch 0:\n",
      "best score:  0.07\n",
      "time for epoch:  9.266743898391724\n",
      "Epoch 1:\n",
      "best score:  0.05\n",
      "time for epoch:  10.274072885513306\n",
      "Epoch 2:\n",
      "best score:  0.06\n",
      "time for epoch:  10.66352105140686\n",
      "Epoch 3:\n",
      "best score:  0.06\n",
      "time for epoch:  10.23140811920166\n",
      "Epoch 4:\n",
      "best score:  0.08\n",
      "time for epoch:  9.232786655426025\n",
      "Epoch 5:\n",
      "best score:  0.06\n",
      "time for epoch:  9.242061614990234\n",
      "Epoch 6:\n",
      "best score:  0.09\n",
      "time for epoch:  9.122787475585938\n",
      "Epoch 7:\n",
      "best score:  0.17\n",
      "time for epoch:  9.992283344268799\n",
      "Epoch 8:\n",
      "best score:  0.11\n",
      "time for epoch:  10.21208381652832\n",
      "Epoch 9:\n",
      "best score:  0.24\n",
      "time for epoch:  10.801365852355957\n",
      "Epoch 10:\n",
      "best score:  0.27\n",
      "time for epoch:  11.262792587280273\n",
      "Epoch 11:\n",
      "best score:  0.31\n",
      "time for epoch:  11.99470829963684\n",
      "Epoch 12:\n",
      "best score:  0.3\n",
      "time for epoch:  13.170142650604248\n",
      "Epoch 13:\n",
      "best score:  0.35\n",
      "time for epoch:  13.374397993087769\n",
      "Epoch 14:\n",
      "best score:  0.4\n",
      "time for epoch:  13.556926965713501\n",
      "Epoch 15:\n",
      "best score:  0.45\n",
      "time for epoch:  13.76653242111206\n",
      "Epoch 16:\n",
      "best score:  0.47\n",
      "time for epoch:  14.631348848342896\n",
      "Epoch 17:\n",
      "best score:  0.47\n",
      "time for epoch:  17.359487056732178\n",
      "Epoch 18:\n",
      "best score:  0.53\n",
      "time for epoch:  17.6500403881073\n",
      "Epoch 19:\n",
      "best score:  0.54\n",
      "time for epoch:  17.392847299575806\n",
      "Epoch 20:\n",
      "best score:  0.59\n",
      "time for epoch:  16.84760308265686\n",
      "Epoch 21:\n",
      "best score:  0.69\n",
      "time for epoch:  17.897494316101074\n",
      "Epoch 22:\n",
      "best score:  0.67\n",
      "time for epoch:  19.67314839363098\n",
      "Epoch 23:\n",
      "best score:  0.61\n",
      "time for epoch:  18.136828899383545\n",
      "Epoch 24:\n",
      "best score:  0.63\n",
      "time for epoch:  18.026472806930542\n",
      "Epoch 25:\n",
      "best score:  0.68\n",
      "time for epoch:  18.008753538131714\n",
      "Epoch 26:\n",
      "best score:  0.66\n",
      "time for epoch:  18.156198978424072\n",
      "Epoch 27:\n",
      "best score:  0.69\n",
      "time for epoch:  18.188311100006104\n",
      "Epoch 28:\n",
      "best score:  0.67\n",
      "time for epoch:  17.995118856430054\n",
      "Epoch 29:\n",
      "best score:  0.72\n",
      "time for epoch:  18.263314485549927\n",
      "Epoch 30:\n",
      "best score:  0.67\n",
      "time for epoch:  17.508991479873657\n",
      "Epoch 31:\n",
      "best score:  0.68\n",
      "time for epoch:  19.350712299346924\n",
      "Epoch 32:\n",
      "best score:  0.7\n",
      "time for epoch:  17.61936330795288\n",
      "Epoch 33:\n",
      "best score:  0.72\n",
      "time for epoch:  17.568887948989868\n",
      "Epoch 34:\n",
      "best score:  0.71\n",
      "time for epoch:  17.413285970687866\n",
      "Epoch 35:\n",
      "best score:  0.7\n",
      "time for epoch:  17.910550832748413\n",
      "Epoch 36:\n",
      "best score:  0.73\n",
      "time for epoch:  20.133111715316772\n",
      "Epoch 37:\n",
      "best score:  0.71\n",
      "time for epoch:  18.258819103240967\n",
      "Epoch 38:\n",
      "best score:  0.71\n",
      "time for epoch:  19.070363998413086\n",
      "Epoch 39:\n",
      "best score:  0.74\n",
      "time for epoch:  19.725317001342773\n",
      "Epoch 40:\n",
      "best score:  0.73\n",
      "time for epoch:  19.407381772994995\n",
      "Epoch 41:\n",
      "best score:  0.71\n",
      "time for epoch:  26.543073892593384\n",
      "Epoch 42:\n",
      "best score:  0.74\n",
      "time for epoch:  22.154115915298462\n",
      "Epoch 43:\n",
      "best score:  0.72\n",
      "time for epoch:  20.230327367782593\n",
      "Epoch 44:\n",
      "best score:  0.73\n",
      "time for epoch:  19.6677827835083\n",
      "Epoch 45:\n",
      "best score:  0.74\n",
      "time for epoch:  19.97735285758972\n",
      "Epoch 46:\n",
      "best score:  0.72\n",
      "time for epoch:  22.942261457443237\n",
      "Epoch 47:\n",
      "best score:  0.69\n",
      "time for epoch:  25.804017782211304\n",
      "Epoch 48:\n",
      "best score:  0.7\n",
      "time for epoch:  21.880294799804688\n",
      "Epoch 49:\n",
      "best score:  0.73\n",
      "time for epoch:  20.457963228225708\n",
      "Epoch 50:\n",
      "best score:  0.71\n",
      "time for epoch:  25.061195850372314\n",
      "Epoch 51:\n",
      "best score:  0.73\n",
      "time for epoch:  28.854961395263672\n",
      "Epoch 52:\n",
      "best score:  0.71\n",
      "time for epoch:  30.446929931640625\n",
      "Epoch 53:\n",
      "best score:  0.73\n",
      "time for epoch:  24.149652242660522\n",
      "Epoch 54:\n",
      "best score:  0.72\n",
      "time for epoch:  19.05419921875\n",
      "Epoch 55:\n",
      "best score:  0.71\n",
      "time for epoch:  18.67035436630249\n",
      "Epoch 56:\n",
      "best score:  0.75\n",
      "time for epoch:  17.689624071121216\n",
      "Epoch 57:\n",
      "best score:  0.73\n",
      "time for epoch:  20.39816403388977\n",
      "Epoch 58:\n",
      "best score:  0.72\n",
      "time for epoch:  19.940529823303223\n",
      "Epoch 59:\n",
      "best score:  0.73\n",
      "time for epoch:  18.059735536575317\n",
      "Epoch 60:\n",
      "best score:  0.71\n",
      "time for epoch:  17.163564443588257\n",
      "Epoch 61:\n",
      "best score:  0.71\n",
      "time for epoch:  17.813531160354614\n",
      "Epoch 62:\n",
      "best score:  0.71\n",
      "time for epoch:  17.598849296569824\n",
      "Epoch 63:\n",
      "best score:  0.74\n",
      "time for epoch:  17.575138568878174\n",
      "Epoch 64:\n",
      "best score:  0.71\n",
      "time for epoch:  17.60162925720215\n",
      "Epoch 65:\n",
      "best score:  0.76\n",
      "time for epoch:  17.704721212387085\n",
      "Epoch 66:\n",
      "best score:  0.69\n",
      "time for epoch:  17.59458637237549\n",
      "Epoch 67:\n",
      "best score:  0.73\n",
      "time for epoch:  20.249045610427856\n",
      "Epoch 68:\n",
      "best score:  0.76\n",
      "time for epoch:  17.912659168243408\n",
      "Epoch 69:\n",
      "best score:  0.75\n",
      "time for epoch:  17.69906210899353\n",
      "Epoch 70:\n",
      "best score:  0.74\n",
      "time for epoch:  17.328296899795532\n",
      "Epoch 71:\n",
      "best score:  0.72\n",
      "time for epoch:  17.610616445541382\n",
      "Epoch 72:\n",
      "best score:  0.72\n",
      "time for epoch:  17.33234190940857\n",
      "Epoch 73:\n",
      "best score:  0.75\n",
      "time for epoch:  17.346575498580933\n",
      "Epoch 74:\n",
      "best score:  0.72\n",
      "time for epoch:  17.360225677490234\n",
      "Epoch 75:\n",
      "best score:  0.73\n",
      "time for epoch:  17.52091884613037\n",
      "Epoch 76:\n",
      "best score:  0.72\n",
      "time for epoch:  17.74757146835327\n",
      "Epoch 77:\n",
      "best score:  0.73\n",
      "time for epoch:  17.336918115615845\n",
      "Epoch 78:\n",
      "best score:  0.75\n",
      "time for epoch:  17.274762868881226\n",
      "Epoch 79:\n",
      "best score:  0.71\n",
      "time for epoch:  17.49072790145874\n",
      "Epoch 80:\n",
      "best score:  0.73\n",
      "time for epoch:  18.45558524131775\n",
      "Epoch 81:\n",
      "best score:  0.71\n",
      "time for epoch:  18.342960119247437\n",
      "Epoch 82:\n",
      "best score:  0.72\n",
      "time for epoch:  17.11547350883484\n",
      "Epoch 83:\n",
      "best score:  0.72\n",
      "time for epoch:  17.472745656967163\n",
      "Epoch 84:\n",
      "best score:  0.72\n",
      "time for epoch:  17.823362350463867\n",
      "Epoch 85:\n",
      "best score:  0.73\n",
      "time for epoch:  17.519657850265503\n",
      "Epoch 86:\n",
      "best score:  0.69\n",
      "time for epoch:  21.68631935119629\n",
      "Epoch 87:\n",
      "best score:  0.73\n",
      "time for epoch:  26.513270378112793\n",
      "Epoch 88:\n",
      "best score:  0.73\n",
      "time for epoch:  26.57053852081299\n",
      "Epoch 89:\n",
      "best score:  0.75\n",
      "time for epoch:  25.489835500717163\n",
      "Epoch 90:\n",
      "best score:  0.74\n",
      "time for epoch:  25.551342964172363\n",
      "Epoch 91:\n",
      "best score:  0.76\n",
      "time for epoch:  25.37251329421997\n",
      "Epoch 92:\n",
      "best score:  0.73\n",
      "time for epoch:  23.586705684661865\n",
      "Epoch 93:\n",
      "best score:  0.74\n",
      "time for epoch:  24.179433584213257\n",
      "Epoch 94:\n",
      "best score:  0.74\n",
      "time for epoch:  24.493524312973022\n",
      "Epoch 95:\n",
      "best score:  0.76\n",
      "time for epoch:  23.75551700592041\n",
      "Epoch 96:\n",
      "best score:  0.8\n",
      "time for epoch:  24.85483956336975\n",
      "Epoch 97:\n",
      "best score:  0.71\n",
      "time for epoch:  22.848214864730835\n",
      "Epoch 98:\n",
      "best score:  0.73\n",
      "time for epoch:  22.501086473464966\n",
      "Epoch 99:\n",
      "best score:  0.73\n",
      "time for epoch:  22.098992824554443\n"
     ]
    }
   ],
   "source": [
    "import time \n",
    "\n",
    "\n",
    "# main loop\n",
    "for epoch in range(n_epochs):\n",
    "    print(\"Epoch %s:\" % epoch)\n",
    "    start = time.time()\n",
    "    \n",
    "    c_indices = [np.random.choice(pool_size, 2, False) for _ in range(n_crossovers)]\n",
    "    m_indices = np.random.choice(pool_size, n_mutations, False)\n",
    "    \n",
    "    crossovered = [crossover(pool[i1], pool[i2]) for i1, i2 in c_indices]\n",
    "    \n",
    "    mutated = [mutation(pool[i]) for i in m_indices]\n",
    "    \n",
    "    assert type(crossovered) == type(mutated) == list\n",
    "    \n",
    "    # add new policies to the pool\n",
    "    pool = pool + crossovered + mutated\n",
    "    pool_scores = get_scores(pool)\n",
    "    \n",
    "    # select pool_size best policies\n",
    "    selected_indices = np.argsort(pool_scores)[-pool_size:]\n",
    "    pool = [pool[i] for i in selected_indices]\n",
    "    pool_scores = [pool_scores[i] for i in selected_indices]\n",
    "\n",
    "    # print the best policy so far (last in ascending score order)\n",
    "    print(\"best score: \", pool_scores[-1])\n",
    "    print(\"time for epoch: \", time.time() - start)"
   ]
  },
  {
   "cell_type": "code",
   "execution_count": 60,
   "metadata": {},
   "outputs": [
    {
     "name": "stdout",
     "output_type": "stream",
     "text": [
      "0.73\n"
     ]
    }
   ],
   "source": [
    "print(pool_scores[-1])"
   ]
  },
  {
   "cell_type": "code",
   "execution_count": 70,
   "metadata": {},
   "outputs": [
    {
     "name": "stdout",
     "output_type": "stream",
     "text": [
      "  (Right)\n",
      "SFFFFFFF\n",
      "FFFFFFFF\n",
      "FFFHFFFF\n",
      "FFFFFHFF\n",
      "FFFHFFFF\n",
      "FHHFFFHF\n",
      "FHFFHFHF\n",
      "FFFHFFF\u001b[41mG\u001b[0m\n",
      "1.0\n",
      "0.75\n"
     ]
    }
   ],
   "source": [
    "from IPython.display import clear_output\n",
    "from time import sleep\n",
    "\n",
    "trained = pool[-1]\n",
    "\n",
    "score = 0\n",
    "\n",
    "for i in range(20):\n",
    "    s = env.reset()\n",
    "    total_reward = 0\n",
    "\n",
    "    for i in range(10000):\n",
    "        action = trained[s]\n",
    "        s, r, done, _ = env.step(action)\n",
    "        total_reward += r\n",
    "\n",
    "        clear_output(wait=True)\n",
    "        env.render()\n",
    "        sleep(0.1)\n",
    "        if done:\n",
    "            break\n",
    "\n",
    "    print(total_reward)\n",
    "    sleep(1)\n",
    "    score += total_reward\n",
    "print(score / 20)"
   ]
  },
  {
   "cell_type": "code",
   "execution_count": null,
   "metadata": {
    "collapsed": true
   },
   "outputs": [],
   "source": []
  }
 ],
 "metadata": {
  "anaconda-cloud": {},
  "kernelspec": {
   "display_name": "Python 3",
   "language": "python",
   "name": "python3"
  },
  "language_info": {
   "codemirror_mode": {
    "name": "ipython",
    "version": 3
   },
   "file_extension": ".py",
   "mimetype": "text/x-python",
   "name": "python",
   "nbconvert_exporter": "python",
   "pygments_lexer": "ipython3",
   "version": "3.6.2"
  }
 },
 "nbformat": 4,
 "nbformat_minor": 1
}
