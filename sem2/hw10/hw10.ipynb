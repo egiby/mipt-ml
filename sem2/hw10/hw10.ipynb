{
 "cells": [
  {
   "cell_type": "markdown",
   "metadata": {},
   "source": [
    "<span style=\"font-size: 14pt\">MIPT, Advanced ML, Autumn 2017</span>\n",
    "\n",
    "<span style=\"font-size: 16pt\"> HW #10: Recommender Systems\n",
    "\n",
    "<span style=\"color:blue; font-size: 12pt\">Andrey Saitgalin </span>,\n",
    "<span style=\"color:blue; font-size: 12pt; font-family: 'Verdana'\"> andrey.saitgalin@gmail.com </span>"
   ]
  },
  {
   "cell_type": "markdown",
   "metadata": {},
   "source": [
    "<h1 align=\"center\">Organization Info</h1> \n",
    "\n",
    "* Дедлайн **18 декабря 23:59** для всех групп.\n",
    "* В качестве решения задания нужно прислать ноутбук с подробными комментариями (<span style='color:red'> без присланного решения результат контеста не будет засчитан </span>).\n",
    "* <span style='color:red'>Название команды в контесте должно соответствовать шаблону: НомерГруппы_Имя_Фамилия, например, 494_Ivan_Ivanov</span>."
   ]
  },
  {
   "cell_type": "markdown",
   "metadata": {},
   "source": [
    "**Оформление дз**: \n",
    "- Присылайте выполненное задание на почту ``ml.course.mipt@gmail.com``\n",
    "- Укажите тему письма в следующем формате ``ML2017_Aut_fall <номер_группы> <фамилия>``, к примеру -- ``ML2017_Aut_fall 401 ivanov``\n",
    "- Выполненное дз сохраните в файл ``<фамилия>_<группа>_task<номер>.ipnb``, к примеру -- ``ivanov_401_task10.ipnb``\n",
    "\n",
    "**Вопросы**:\n",
    "- Присылайте вопросы на почту ``ml.course.mipt@gmail.com``\n",
    "- Укажите тему письма в следующем формате ``ML2017_Aut_fall Question <Содержание вопроса>``\n",
    "\n",
    "\n",
    "--------\n",
    "- **PS1**: Мы используем автоматические фильтры, и просто не найдем ваше дз, если вы не аккуратно его подпишите.\n",
    "- **PS2**: Напоминаем, что дедлайны жесткие, письма пришедшие после автоматически удаляются =( чтобы соблазна не было."
   ]
  },
  {
   "cell_type": "markdown",
   "metadata": {},
   "source": [
    "<h1 align=\"center\">Contest (100%)</h1> \n",
    "* Ссылка на контест: https://www.kaggle.com/t/f37413eb448145acba822f3a8c43946d"
   ]
  },
  {
   "cell_type": "code",
   "execution_count": 1,
   "metadata": {
    "collapsed": true
   },
   "outputs": [],
   "source": [
    "import pandas as pd\n",
    "from os import path\n",
    "\n",
    "DATA_DIR = '/home/egiby/Learning/Current/machine-learning/practice/data/contest100'\n",
    "KAGGLE_DATA = 'data'\n",
    "DATASET = 'ml-20m'"
   ]
  },
  {
   "cell_type": "code",
   "execution_count": 2,
   "metadata": {},
   "outputs": [
    {
     "data": {
      "text/plain": [
       "rating     float64\n",
       "movieId      int64\n",
       "userId      uint64\n",
       "dtype: object"
      ]
     },
     "execution_count": 2,
     "metadata": {},
     "output_type": "execute_result"
    }
   ],
   "source": [
    "train_ids = pd.read_csv(path.join(DATA_DIR, KAGGLE_DATA, 'train.csv'))\n",
    "train_ids.dtypes"
   ]
  },
  {
   "cell_type": "code",
   "execution_count": 3,
   "metadata": {},
   "outputs": [
    {
     "data": {
      "text/html": [
       "<div>\n",
       "<style scoped>\n",
       "    .dataframe tbody tr th:only-of-type {\n",
       "        vertical-align: middle;\n",
       "    }\n",
       "\n",
       "    .dataframe tbody tr th {\n",
       "        vertical-align: top;\n",
       "    }\n",
       "\n",
       "    .dataframe thead th {\n",
       "        text-align: right;\n",
       "    }\n",
       "</style>\n",
       "<table border=\"1\" class=\"dataframe\">\n",
       "  <thead>\n",
       "    <tr style=\"text-align: right;\">\n",
       "      <th></th>\n",
       "      <th>rating</th>\n",
       "      <th>movieId</th>\n",
       "      <th>userId</th>\n",
       "    </tr>\n",
       "  </thead>\n",
       "  <tbody>\n",
       "    <tr>\n",
       "      <th>0</th>\n",
       "      <td>3.0</td>\n",
       "      <td>2158</td>\n",
       "      <td>10953099004185006703</td>\n",
       "    </tr>\n",
       "    <tr>\n",
       "      <th>1</th>\n",
       "      <td>3.5</td>\n",
       "      <td>12959</td>\n",
       "      <td>10953099004185006703</td>\n",
       "    </tr>\n",
       "    <tr>\n",
       "      <th>2</th>\n",
       "      <td>3.5</td>\n",
       "      <td>7808</td>\n",
       "      <td>10953099004185006703</td>\n",
       "    </tr>\n",
       "    <tr>\n",
       "      <th>3</th>\n",
       "      <td>4.0</td>\n",
       "      <td>9049</td>\n",
       "      <td>4762492897681260571</td>\n",
       "    </tr>\n",
       "    <tr>\n",
       "      <th>4</th>\n",
       "      <td>3.0</td>\n",
       "      <td>12363</td>\n",
       "      <td>2110017552365950661</td>\n",
       "    </tr>\n",
       "  </tbody>\n",
       "</table>\n",
       "</div>"
      ],
      "text/plain": [
       "   rating  movieId                userId\n",
       "0     3.0     2158  10953099004185006703\n",
       "1     3.5    12959  10953099004185006703\n",
       "2     3.5     7808  10953099004185006703\n",
       "3     4.0     9049   4762492897681260571\n",
       "4     3.0    12363   2110017552365950661"
      ]
     },
     "execution_count": 3,
     "metadata": {},
     "output_type": "execute_result"
    }
   ],
   "source": [
    "train_ids.head()"
   ]
  },
  {
   "cell_type": "code",
   "execution_count": 4,
   "metadata": {},
   "outputs": [
    {
     "data": {
      "text/plain": [
       "movieId     int64\n",
       "userId     uint64\n",
       "dtype: object"
      ]
     },
     "execution_count": 4,
     "metadata": {},
     "output_type": "execute_result"
    }
   ],
   "source": [
    "test_ids = pd.read_csv(path.join(DATA_DIR, KAGGLE_DATA, 'test.csv'))\n",
    "test_ids.dtypes"
   ]
  },
  {
   "cell_type": "code",
   "execution_count": 5,
   "metadata": {},
   "outputs": [
    {
     "data": {
      "text/html": [
       "<div>\n",
       "<style scoped>\n",
       "    .dataframe tbody tr th:only-of-type {\n",
       "        vertical-align: middle;\n",
       "    }\n",
       "\n",
       "    .dataframe tbody tr th {\n",
       "        vertical-align: top;\n",
       "    }\n",
       "\n",
       "    .dataframe thead th {\n",
       "        text-align: right;\n",
       "    }\n",
       "</style>\n",
       "<table border=\"1\" class=\"dataframe\">\n",
       "  <thead>\n",
       "    <tr style=\"text-align: right;\">\n",
       "      <th></th>\n",
       "      <th>movieId</th>\n",
       "      <th>userId</th>\n",
       "    </tr>\n",
       "  </thead>\n",
       "  <tbody>\n",
       "    <tr>\n",
       "      <th>0</th>\n",
       "      <td>939</td>\n",
       "      <td>3128775406573976678</td>\n",
       "    </tr>\n",
       "    <tr>\n",
       "      <th>1</th>\n",
       "      <td>19</td>\n",
       "      <td>6058877902987009152</td>\n",
       "    </tr>\n",
       "    <tr>\n",
       "      <th>2</th>\n",
       "      <td>1213</td>\n",
       "      <td>2787275058272728238</td>\n",
       "    </tr>\n",
       "    <tr>\n",
       "      <th>3</th>\n",
       "      <td>1141</td>\n",
       "      <td>14199414671932452776</td>\n",
       "    </tr>\n",
       "    <tr>\n",
       "      <th>4</th>\n",
       "      <td>2935</td>\n",
       "      <td>5958052843391945803</td>\n",
       "    </tr>\n",
       "  </tbody>\n",
       "</table>\n",
       "</div>"
      ],
      "text/plain": [
       "   movieId                userId\n",
       "0      939   3128775406573976678\n",
       "1       19   6058877902987009152\n",
       "2     1213   2787275058272728238\n",
       "3     1141  14199414671932452776\n",
       "4     2935   5958052843391945803"
      ]
     },
     "execution_count": 5,
     "metadata": {},
     "output_type": "execute_result"
    }
   ],
   "source": [
    "test_ids.head()"
   ]
  },
  {
   "cell_type": "code",
   "execution_count": 6,
   "metadata": {},
   "outputs": [
    {
     "name": "stdout",
     "output_type": "stream",
     "text": [
      "58385675418643 18446653389538581776\n",
      "58385675418643 18446653389538581776\n"
     ]
    }
   ],
   "source": [
    "print(test_ids.userId.min(), test_ids.userId.max())\n",
    "print(train_ids.userId.min(), train_ids.userId.max())\n",
    "# ура, они наконец одинаковые!"
   ]
  },
  {
   "cell_type": "code",
   "execution_count": 7,
   "metadata": {},
   "outputs": [
    {
     "name": "stdout",
     "output_type": "stream",
     "text": [
      "Unique user count 138493\n",
      "Unique movie count 18345\n"
     ]
    }
   ],
   "source": [
    "print(\"Unique user count\", len(train_ids[\"userId\"].unique()))\n",
    "print(\"Unique movie count\", len(train_ids[\"movieId\"].unique()))"
   ]
  },
  {
   "cell_type": "markdown",
   "metadata": {
    "collapsed": true
   },
   "source": [
    "## Хочется разделить на train и test и посмотреть, насколько все хорошо"
   ]
  },
  {
   "cell_type": "code",
   "execution_count": 5,
   "metadata": {
    "collapsed": true
   },
   "outputs": [],
   "source": [
    "import numpy as np\n",
    "\n",
    "\n",
    "train_ids[\"random\"] = np.random.random(size=(train_ids.shape[0], 1))\n",
    "idx = train_ids.sort_values(by=\"random\") \\\n",
    "    .reset_index() \\\n",
    "    .groupby(\"userId\") \\\n",
    "    .head(n=7)[\"index\"]\n",
    "\n",
    "mask = train_ids.index.isin(idx)\n",
    "train_df = train_ids[~mask]\n",
    "test_df = train_ids[mask]"
   ]
  },
  {
   "cell_type": "code",
   "execution_count": 6,
   "metadata": {
    "collapsed": true
   },
   "outputs": [],
   "source": [
    "train_df[[\"userId\", \"movieId\", \"rating\"]].to_csv(\"ml20m_train.csv\", header=False, index=False)\n",
    "test_df[[\"userId\", \"movieId\", \"rating\"]].to_csv(\"ml20m_test.csv\", header=False, index=False)"
   ]
  },
  {
   "cell_type": "code",
   "execution_count": 7,
   "metadata": {},
   "outputs": [
    {
     "data": {
      "text/html": [
       "<div>\n",
       "<style scoped>\n",
       "    .dataframe tbody tr th:only-of-type {\n",
       "        vertical-align: middle;\n",
       "    }\n",
       "\n",
       "    .dataframe tbody tr th {\n",
       "        vertical-align: top;\n",
       "    }\n",
       "\n",
       "    .dataframe thead th {\n",
       "        text-align: right;\n",
       "    }\n",
       "</style>\n",
       "<table border=\"1\" class=\"dataframe\">\n",
       "  <thead>\n",
       "    <tr style=\"text-align: right;\">\n",
       "      <th></th>\n",
       "      <th>rating</th>\n",
       "      <th>movieId</th>\n",
       "      <th>userId</th>\n",
       "      <th>random</th>\n",
       "    </tr>\n",
       "  </thead>\n",
       "  <tbody>\n",
       "    <tr>\n",
       "      <th>476</th>\n",
       "      <td>1.0</td>\n",
       "      <td>1714</td>\n",
       "      <td>13227923070531244354</td>\n",
       "      <td>0.000534</td>\n",
       "    </tr>\n",
       "    <tr>\n",
       "      <th>490</th>\n",
       "      <td>2.0</td>\n",
       "      <td>1270</td>\n",
       "      <td>8212772436416091663</td>\n",
       "      <td>0.006719</td>\n",
       "    </tr>\n",
       "    <tr>\n",
       "      <th>984</th>\n",
       "      <td>4.0</td>\n",
       "      <td>3792</td>\n",
       "      <td>13719044709052513250</td>\n",
       "      <td>0.006219</td>\n",
       "    </tr>\n",
       "    <tr>\n",
       "      <th>1033</th>\n",
       "      <td>2.0</td>\n",
       "      <td>379</td>\n",
       "      <td>1433873131833809595</td>\n",
       "      <td>0.001197</td>\n",
       "    </tr>\n",
       "    <tr>\n",
       "      <th>1108</th>\n",
       "      <td>3.5</td>\n",
       "      <td>286</td>\n",
       "      <td>6498419348948971207</td>\n",
       "      <td>0.002700</td>\n",
       "    </tr>\n",
       "  </tbody>\n",
       "</table>\n",
       "</div>"
      ],
      "text/plain": [
       "      rating  movieId                userId    random\n",
       "476      1.0     1714  13227923070531244354  0.000534\n",
       "490      2.0     1270   8212772436416091663  0.006719\n",
       "984      4.0     3792  13719044709052513250  0.006219\n",
       "1033     2.0      379   1433873131833809595  0.001197\n",
       "1108     3.5      286   6498419348948971207  0.002700"
      ]
     },
     "execution_count": 7,
     "metadata": {},
     "output_type": "execute_result"
    }
   ],
   "source": [
    "test_df.head()"
   ]
  },
  {
   "cell_type": "code",
   "execution_count": 1,
   "metadata": {},
   "outputs": [
    {
     "name": "stdout",
     "output_type": "stream",
     "text": [
      "8.4.0\r\n"
     ]
    }
   ],
   "source": [
    "!./vw --version"
   ]
  },
  {
   "cell_type": "code",
   "execution_count": 12,
   "metadata": {
    "scrolled": false
   },
   "outputs": [
    {
     "name": "stdout",
     "output_type": "stream",
     "text": [
      "creating quadratic features for pairs: ui \n",
      "using l2 regularization = 0.001\n",
      "final_regressor = movielens.reg\n",
      "Num weight bits = 18\n",
      "learning rate = 0.015\n",
      "initial_t = 1\n",
      "power_t = 0\n",
      "decay_learning_rate = 0.97\n",
      "creating cache_file = movielens.cache\n",
      "Reading datafile = /dev/stdin\n",
      "num sources = 1\n",
      "average  since         example        example  current  current  current\n",
      "loss     last          counter         weight    label  predict features\n",
      "7.913301 7.913301            1            1.0   3.0000   0.1869       63\n",
      "9.081711 10.250121            2            2.0   3.5000   0.2984       63\n",
      "10.423429 11.765148            4            4.0   4.0000   0.3387       63\n",
      "9.942033 9.460636            8            8.0   4.5000   0.3959       63\n",
      "10.205175 10.468317           16           16.0   2.5000   0.7053       63\n",
      "7.334792 4.464409           32           32.0   4.0000   0.9697       63\n",
      "5.623727 3.912662           64           64.0   3.0000   1.5551       63\n",
      "3.897234 2.170740          128          128.0   4.0000   2.1311       63\n",
      "2.676257 1.455281          256          256.0   3.0000   3.0237       63\n",
      "1.922216 1.168175          512          512.0   2.0000   3.0192       63\n",
      "1.494704 1.067191         1024         1024.0   2.0000   3.3139       63\n",
      "1.298097 1.101490         2048         2048.0   4.0000   3.0647       63\n",
      "1.179455 1.060813         4096         4096.0   3.0000   2.9440       63\n",
      "1.142978 1.106500         8192         8192.0   2.0000   3.2832       63\n",
      "1.106983 1.070989        16384        16384.0   3.0000   3.2867       63\n",
      "1.072328 1.037672        32768        32768.0   3.0000   3.4628       63\n",
      "1.048015 1.023702        65536        65536.0   3.0000   3.3304       63\n",
      "1.015675 0.983336       131072       131072.0   3.0000   3.2143       63\n",
      "0.980478 0.945281       262144       262144.0   3.5000   3.3429       63\n",
      "0.947549 0.914620       524288       524288.0   3.0000   3.3355       63\n",
      "0.922258 0.896967      1048576      1048576.0   4.0000   2.6736       63\n",
      "0.906814 0.891369      2097152      2097152.0   4.0000   3.8083       63\n",
      "0.897279 0.887745      4194304      4194304.0   3.5000   3.7898       63\n",
      "0.893251 0.889223      8388608      8388608.0   4.0000   3.7082       63\n",
      "0.889444 0.889444     16777216     16777216.0   3.0000   4.2394       63 h\n",
      "0.885195 0.880947     33554432     33554432.0   2.0000   3.2232       63 h\n",
      "0.882457 0.879719     67108864     67108864.0   2.0000   3.6484       63 h\n",
      "\n",
      "finished run\n",
      "number of examples per pass = 16240610\n",
      "passes used = 5\n",
      "weighted example sum = 81203050.000000\n",
      "weighted label sum = 285433452.500000\n",
      "average loss = 0.879806 h\n",
      "best constant = 3.515058\n",
      "total feature number = 5115792150\n"
     ]
    }
   ],
   "source": [
    "!awk -F\",\" '{printf \"%f |u %d |i %d\\n\", $3,$1,$2}' < ml20m_train.csv | \\\n",
    "  ./vw /dev/stdin -b 18 -q ui --rank 30 --l2 0.001 --learning_rate 0.015 \\\n",
    "    --passes 5 --decay_learning_rate 0.97 --power_t 0 \\\n",
    "    --loss_function squared -f movielens.reg -k --cache_file movielens.cache --threads"
   ]
  },
  {
   "cell_type": "code",
   "execution_count": 13,
   "metadata": {},
   "outputs": [
    {
     "name": "stdout",
     "output_type": "stream",
     "text": [
      "creating quadratic features for pairs: ui \n",
      "only testing\n",
      "predictions = ml20m_test_predictions.csv\n",
      "Num weight bits = 18\n",
      "learning rate = 10\n",
      "initial_t = 1\n",
      "power_t = 0.5\n",
      "using no cache\n",
      "Reading datafile = /dev/stdin\n",
      "num sources = 1\n",
      "average  since         example        example  current  current  current\n",
      "loss     last          counter         weight    label  predict features\n",
      "6.794386 6.794386            1            1.0   1.0000   3.6066       63\n",
      "4.610961 2.427535            2            2.0   2.0000   3.5581       63\n",
      "2.792235 0.973510            4            4.0   2.0000   3.0494       63\n",
      "1.487212 0.182189            8            8.0   4.0000   4.2255       63\n",
      "0.940563 0.393914           16           16.0   4.0000   3.7545       63\n",
      "0.943373 0.946183           32           32.0   4.0000   3.3181       63\n",
      "0.630813 0.318253           64           64.0   3.5000   3.3431       63\n",
      "0.802550 0.974286          128          128.0   2.5000   3.4713       63\n",
      "0.794405 0.786260          256          256.0   4.5000   3.4872       63\n",
      "0.797240 0.800075          512          512.0   3.0000   3.4923       63\n",
      "0.871711 0.946182         1024         1024.0   3.0000   3.7022       63\n",
      "0.887404 0.903096         2048         2048.0   3.0000   3.8584       63\n",
      "0.886638 0.885873         4096         4096.0   3.0000   3.6660       63\n",
      "0.880275 0.873911         8192         8192.0   5.0000   3.9818       63\n",
      "0.903631 0.926987        16384        16384.0   3.0000   3.5640       63\n",
      "0.906253 0.908875        32768        32768.0   4.0000   3.2361       63\n",
      "0.917738 0.929223        65536        65536.0   4.0000   3.7870       63\n",
      "0.920530 0.923323       131072       131072.0   3.0000   3.0319       63\n",
      "0.939672 0.958813       262144       262144.0   5.0000   4.2228       63\n",
      "0.960760 0.981849       524288       524288.0   3.0000   3.3165       63\n",
      "\n",
      "finished run\n",
      "number of examples per pass = 969451\n",
      "passes used = 1\n",
      "weighted example sum = 969451.000000\n",
      "weighted label sum = 3516648.500000\n",
      "average loss = 0.973520\n",
      "best constant = 3.627464\n",
      "total feature number = 61075413\n"
     ]
    }
   ],
   "source": [
    "!awk -F\",\" '{printf \"%f |u %d |i %d\\n\", $3,$1,$2}' < ml20m_test.csv | \\\n",
    "  ./vw /dev/stdin -i movielens.reg -t -p ml20m_test_predictions.csv"
   ]
  },
  {
   "cell_type": "code",
   "execution_count": 16,
   "metadata": {
    "collapsed": true
   },
   "outputs": [],
   "source": [
    "import numpy as np\n",
    "import pandas as pd"
   ]
  },
  {
   "cell_type": "code",
   "execution_count": 17,
   "metadata": {},
   "outputs": [
    {
     "name": "stdout",
     "output_type": "stream",
     "text": [
      "3.606604\r\n",
      "3.558055\r\n",
      "3.080317\r\n",
      "3.049382\r\n",
      "3.063125\r\n",
      "4.040788\r\n",
      "3.803318\r\n",
      "4.225533\r\n",
      "2.523062\r\n",
      "3.532927\r\n"
     ]
    }
   ],
   "source": [
    "!head ml20m_test_predictions.csv"
   ]
  },
  {
   "cell_type": "code",
   "execution_count": 18,
   "metadata": {},
   "outputs": [],
   "source": [
    "ratings = pd.read_csv('ml20m_test_predictions.csv', header=None)"
   ]
  },
  {
   "cell_type": "code",
   "execution_count": 19,
   "metadata": {
    "collapsed": true
   },
   "outputs": [],
   "source": [
    "test_df = pd.read_csv('ml20m_test.csv', header=None)"
   ]
  },
  {
   "cell_type": "code",
   "execution_count": 20,
   "metadata": {},
   "outputs": [
    {
     "data": {
      "text/plain": [
       "0    1.0\n",
       "1    2.0\n",
       "2    4.0\n",
       "3    2.0\n",
       "4    3.5\n",
       "Name: 2, dtype: float64"
      ]
     },
     "execution_count": 20,
     "metadata": {},
     "output_type": "execute_result"
    }
   ],
   "source": [
    "true_ratings = test_df[2]\n",
    "true_ratings.head()"
   ]
  },
  {
   "cell_type": "code",
   "execution_count": 22,
   "metadata": {},
   "outputs": [
    {
     "data": {
      "text/plain": [
       "0.97352047451054036"
      ]
     },
     "execution_count": 22,
     "metadata": {},
     "output_type": "execute_result"
    }
   ],
   "source": [
    "from sklearn.metrics import mean_squared_error\n",
    "\n",
    "mean_squared_error(ratings, true_ratings)"
   ]
  },
  {
   "cell_type": "markdown",
   "metadata": {
    "collapsed": true
   },
   "source": [
    "## Похоже, оно работает. Теперь обучение на всей выборке и отправка в контест"
   ]
  },
  {
   "cell_type": "code",
   "execution_count": 14,
   "metadata": {},
   "outputs": [],
   "source": [
    "import numpy as np\n",
    "\n",
    "\n",
    "test_ids['rating'] = np.zeros(test_ids.shape[0])"
   ]
  },
  {
   "cell_type": "code",
   "execution_count": 12,
   "metadata": {},
   "outputs": [
    {
     "data": {
      "text/plain": [
       "(969451, 3)"
      ]
     },
     "execution_count": 12,
     "metadata": {},
     "output_type": "execute_result"
    }
   ],
   "source": [
    "test_ids.shape"
   ]
  },
  {
   "cell_type": "code",
   "execution_count": null,
   "metadata": {},
   "outputs": [],
   "source": [
    "train_ids[[\"userId\", \"movieId\", \"rating\"]].to_csv(\"ml20m_train.csv\", header=False, index=False)"
   ]
  },
  {
   "cell_type": "code",
   "execution_count": 15,
   "metadata": {},
   "outputs": [],
   "source": [
    "test_ids[[\"userId\", \"movieId\", \"rating\"]].to_csv(\"ml20m_test.csv\", header=False, index=False)"
   ]
  },
  {
   "cell_type": "code",
   "execution_count": 16,
   "metadata": {},
   "outputs": [
    {
     "name": "stdout",
     "output_type": "stream",
     "text": [
      "creating quadratic features for pairs: ui \n",
      "using l2 regularization = 0.001\n",
      "final_regressor = movielens.reg\n",
      "Num weight bits = 18\n",
      "learning rate = 0.015\n",
      "initial_t = 1\n",
      "power_t = 0\n",
      "decay_learning_rate = 0.97\n",
      "creating cache_file = movielens.cache\n",
      "Reading datafile = /dev/stdin\n",
      "num sources = 1\n",
      "average  since         example        example  current  current  current\n",
      "loss     last          counter         weight    label  predict features\n",
      "7.913301 7.913301            1            1.0   3.0000   0.1869       63\n",
      "9.081711 10.250121            2            2.0   3.5000   0.2984       63\n",
      "10.423429 11.765148            4            4.0   4.0000   0.3387       63\n",
      "9.942033 9.460636            8            8.0   4.5000   0.3959       63\n",
      "10.205175 10.468317           16           16.0   2.5000   0.7053       63\n",
      "7.334792 4.464409           32           32.0   4.0000   0.9697       63\n",
      "5.623727 3.912662           64           64.0   3.0000   1.5551       63\n",
      "3.897234 2.170740          128          128.0   4.0000   2.1311       63\n",
      "2.676257 1.455281          256          256.0   3.0000   3.0237       63\n",
      "1.931112 1.185968          512          512.0   3.5000   3.1538       63\n",
      "1.491891 1.052670         1024         1024.0   2.0000   3.4375       63\n",
      "1.282157 1.072423         2048         2048.0   1.5000   3.1476       63\n",
      "1.168358 1.054559         4096         4096.0   3.5000   3.3959       63\n",
      "1.137849 1.107341         8192         8192.0   4.0000   3.1596       63\n",
      "1.101383 1.064916        16384        16384.0   4.0000   3.0564       63\n",
      "1.068222 1.035061        32768        32768.0   2.0000   3.4423       63\n",
      "1.044302 1.020383        65536        65536.0   2.0000   2.8896       63\n",
      "1.014701 0.985100       131072       131072.0   4.0000   4.1151       63\n",
      "0.980468 0.946235       262144       262144.0   3.0000   3.1043       63\n",
      "0.947586 0.914703       524288       524288.0   4.0000   3.8781       63\n",
      "0.922471 0.897357      1048576      1048576.0   4.0000   4.0205       63\n",
      "0.907188 0.891904      2097152      2097152.0   4.5000   4.1833       63\n",
      "0.898714 0.890240      4194304      4194304.0   4.5000   3.7654       63\n",
      "0.896374 0.894035      8388608      8388608.0   5.0000   3.4186       63\n",
      "0.894954 0.893535     16777216     16777216.0   3.0000   3.8101       63\n",
      "0.890810 0.890810     33554432     33554432.0   3.0000   3.6174       63 h\n",
      "0.887963 0.885116     67108864     67108864.0   4.0000   4.2077       63 h\n",
      "\n",
      "finished run\n",
      "number of examples per pass = 17113116\n",
      "passes used = 5\n",
      "weighted example sum = 85565580.000000\n",
      "weighted label sum = 301255812.500000\n",
      "average loss = 0.884619 h\n",
      "best constant = 3.520759\n",
      "total feature number = 5390631540\n"
     ]
    }
   ],
   "source": [
    "!awk -F\",\" '{printf \"%f |u %d |i %d\\n\", $3,$1,$2}' < ml20m_train.csv | \\\n",
    "  ./vw /dev/stdin -b 18 -q ui --rank 30 --l2 0.001 --learning_rate 0.015 \\\n",
    "    --passes 5 --decay_learning_rate 0.97 --power_t 0 \\\n",
    "    --loss_function squared -f movielens.reg -k --cache_file movielens.cache --threads"
   ]
  },
  {
   "cell_type": "code",
   "execution_count": 19,
   "metadata": {},
   "outputs": [
    {
     "name": "stdout",
     "output_type": "stream",
     "text": [
      "creating quadratic features for pairs: ui \n",
      "only testing\n",
      "predictions = ml20m_test_predictions.csv\n",
      "Num weight bits = 18\n",
      "learning rate = 10\n",
      "initial_t = 1\n",
      "power_t = 0.5\n",
      "using no cache\n",
      "Reading datafile = /dev/stdin\n",
      "num sources = 1\n",
      "average  since         example        example  current  current  current\n",
      "loss     last          counter         weight    label  predict features\n",
      "16.195406 16.195406            1            1.0   0.0000   4.0244       63\n",
      "10.687369 5.179333            2            2.0   0.0000   2.2758       63\n",
      "12.083152 13.478934            4            4.0   0.0000   3.4476       63\n",
      "12.932878 13.782604            8            8.0   0.0000   4.1141       63\n",
      "12.972806 13.012733           16           16.0   0.0000   3.7787       63\n",
      "12.201732 11.430659           32           32.0   0.0000   3.7546       63\n",
      "12.486272 12.770812           64           64.0   0.0000   3.4999       63\n",
      "12.761836 13.037400          128          128.0   0.0000   3.6119       63\n",
      "12.579160 12.396484          256          256.0   0.0000   2.6289       63\n",
      "12.473204 12.367248          512          512.0   0.0000   2.1799       63\n",
      "12.516877 12.560550         1024         1024.0   0.0000   3.2467       63\n",
      "12.507927 12.498977         2048         2048.0   0.0000   2.7046       63\n",
      "12.496813 12.485698         4096         4096.0   0.0000   3.6059       63\n",
      "12.483030 12.469247         8192         8192.0   0.0000   3.8336       63\n",
      "12.449295 12.415560        16384        16384.0   0.0000   3.6900       63\n",
      "12.439303 12.429311        32768        32768.0   0.0000   2.1666       63\n",
      "12.460384 12.481464        65536        65536.0   0.0000   2.6813       63\n",
      "12.500287 12.540190       131072       131072.0   0.0000   3.6387       63\n",
      "12.611498 12.722709       262144       262144.0   0.0000   3.6677       63\n",
      "12.709740 12.807982       524288       524288.0   0.0000   3.5643       63\n",
      "\n",
      "finished run\n",
      "number of examples per pass = 969451\n",
      "passes used = 1\n",
      "weighted example sum = 969451.000000\n",
      "weighted label sum = 0.000000\n",
      "average loss = 12.701764\n",
      "total feature number = 61075413\n"
     ]
    }
   ],
   "source": [
    "!awk -F\",\" '{printf \"%f |u %d |i %d\\n\", $3,$1,$2}' < ml20m_test.csv | \\\n",
    "  ./vw /dev/stdin -i movielens.reg -t -p ml20m_test_predictions.csv"
   ]
  },
  {
   "cell_type": "code",
   "execution_count": 20,
   "metadata": {},
   "outputs": [
    {
     "name": "stdout",
     "output_type": "stream",
     "text": [
      "4.024352\r\n",
      "2.275815\r\n",
      "3.882221\r\n",
      "3.447641\r\n",
      "3.615921\r\n",
      "3.455373\r\n",
      "3.631771\r\n",
      "4.114142\r\n",
      "3.548950\r\n",
      "4.246598\r\n"
     ]
    }
   ],
   "source": [
    "!head ml20m_test_predictions.csv"
   ]
  },
  {
   "cell_type": "code",
   "execution_count": 22,
   "metadata": {},
   "outputs": [],
   "source": [
    "predictions = pd.read_csv('ml20m_test_predictions.csv', header=None)"
   ]
  },
  {
   "cell_type": "code",
   "execution_count": 24,
   "metadata": {},
   "outputs": [],
   "source": [
    "answer = pd.read_csv(path.join(DATA_DIR, KAGGLE_DATA, 'baseline.csv'))"
   ]
  },
  {
   "cell_type": "code",
   "execution_count": 26,
   "metadata": {},
   "outputs": [],
   "source": [
    "answer['rating'] = predictions"
   ]
  },
  {
   "cell_type": "code",
   "execution_count": 29,
   "metadata": {
    "collapsed": true
   },
   "outputs": [],
   "source": [
    "answer.to_csv('predictions.csv', index=False)"
   ]
  },
  {
   "cell_type": "code",
   "execution_count": 30,
   "metadata": {},
   "outputs": [
    {
     "name": "stdout",
     "output_type": "stream",
     "text": [
      "Id,rating\r\n",
      "1,4.0243519999999995\r\n",
      "2,2.275815\r\n",
      "3,3.882221\r\n",
      "4,3.4476410000000004\r\n",
      "5,3.6159209999999997\r\n",
      "6,3.4553730000000002\r\n",
      "7,3.631771\r\n",
      "8,4.114142\r\n",
      "9,3.54895\r\n"
     ]
    }
   ],
   "source": [
    "!head predictions.csv"
   ]
  },
  {
   "cell_type": "code",
   "execution_count": null,
   "metadata": {
    "collapsed": true
   },
   "outputs": [],
   "source": []
  }
 ],
 "metadata": {
  "kernelspec": {
   "display_name": "Python 3",
   "language": "python",
   "name": "python3"
  },
  "language_info": {
   "codemirror_mode": {
    "name": "ipython",
    "version": 3
   },
   "file_extension": ".py",
   "mimetype": "text/x-python",
   "name": "python",
   "nbconvert_exporter": "python",
   "pygments_lexer": "ipython3",
   "version": "3.6.3"
  }
 },
 "nbformat": 4,
 "nbformat_minor": 1
}
